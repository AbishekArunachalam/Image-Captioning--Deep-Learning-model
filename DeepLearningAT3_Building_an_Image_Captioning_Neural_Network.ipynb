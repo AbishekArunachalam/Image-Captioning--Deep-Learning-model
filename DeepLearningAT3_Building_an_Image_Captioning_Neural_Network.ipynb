{
  "nbformat": 4,
  "nbformat_minor": 0,
  "metadata": {
    "colab": {
      "name": "DeepLearningAT3- Building an Image Captioning Neural Network.ipynb",
      "version": "0.3.2",
      "provenance": [],
      "collapsed_sections": [],
      "toc_visible": true,
      "include_colab_link": true
    },
    "kernelspec": {
      "name": "python3",
      "display_name": "Python 3"
    },
    "accelerator": "GPU"
  },
  "cells": [
    {
      "cell_type": "markdown",
      "metadata": {
        "id": "view-in-github",
        "colab_type": "text"
      },
      "source": [
        "<a href=\"https://colab.research.google.com/github/AbishekArunachalam/Image-Captioning--Deep-Learning-model-/blob/master/DeepLearningAT3_Building_an_Image_Captioning_Neural_Network.ipynb\" target=\"_parent\"><img src=\"https://colab.research.google.com/assets/colab-badge.svg\" alt=\"Open In Colab\"/></a>"
      ]
    },
    {
      "cell_type": "markdown",
      "metadata": {
        "id": "7n7hOP-PdNE7",
        "colab_type": "text"
      },
      "source": [
        "# Deep Learning - Image labelling model"
      ]
    },
    {
      "cell_type": "markdown",
      "metadata": {
        "id": "-2O7O77gdcDU",
        "colab_type": "text"
      },
      "source": [
        "### Install packages"
      ]
    },
    {
      "cell_type": "code",
      "metadata": {
        "id": "GgaiI_LMYEpj",
        "colab_type": "code",
        "outputId": "9bf17d87-0fb9-43fe-98d4-eccb17094ebe",
        "colab": {
          "base_uri": "https://localhost:8080/",
          "height": 180
        }
      },
      "source": [
        "# Install the packages\n",
        "!pip install -U -q PyDrive\n",
        "!pip install keras"
      ],
      "execution_count": 1,
      "outputs": [
        {
          "output_type": "stream",
          "text": [
            "\u001b[?25l\r\u001b[K     |▎                               | 10kB 18.7MB/s eta 0:00:01\r\u001b[K     |▋                               | 20kB 3.5MB/s eta 0:00:01\r\u001b[K     |█                               | 30kB 5.1MB/s eta 0:00:01\r\u001b[K     |█▎                              | 40kB 4.1MB/s eta 0:00:01\r\u001b[K     |█▋                              | 51kB 5.0MB/s eta 0:00:01\r\u001b[K     |██                              | 61kB 5.9MB/s eta 0:00:01\r\u001b[K     |██▎                             | 71kB 6.7MB/s eta 0:00:01\r\u001b[K     |██▋                             | 81kB 7.4MB/s eta 0:00:01\r\u001b[K     |███                             | 92kB 8.2MB/s eta 0:00:01\r\u001b[K     |███▎                            | 102kB 6.7MB/s eta 0:00:01\r\u001b[K     |███▋                            | 112kB 6.7MB/s eta 0:00:01\r\u001b[K     |████                            | 122kB 6.7MB/s eta 0:00:01\r\u001b[K     |████▎                           | 133kB 6.7MB/s eta 0:00:01\r\u001b[K     |████▋                           | 143kB 6.7MB/s eta 0:00:01\r\u001b[K     |█████                           | 153kB 6.7MB/s eta 0:00:01\r\u001b[K     |█████▎                          | 163kB 6.7MB/s eta 0:00:01\r\u001b[K     |█████▋                          | 174kB 6.7MB/s eta 0:00:01\r\u001b[K     |██████                          | 184kB 6.7MB/s eta 0:00:01\r\u001b[K     |██████▎                         | 194kB 6.7MB/s eta 0:00:01\r\u001b[K     |██████▋                         | 204kB 6.7MB/s eta 0:00:01\r\u001b[K     |███████                         | 215kB 6.7MB/s eta 0:00:01\r\u001b[K     |███████▎                        | 225kB 6.7MB/s eta 0:00:01\r\u001b[K     |███████▋                        | 235kB 6.7MB/s eta 0:00:01\r\u001b[K     |████████                        | 245kB 6.7MB/s eta 0:00:01\r\u001b[K     |████████▎                       | 256kB 6.7MB/s eta 0:00:01\r\u001b[K     |████████▋                       | 266kB 6.7MB/s eta 0:00:01\r\u001b[K     |█████████                       | 276kB 6.7MB/s eta 0:00:01\r\u001b[K     |█████████▎                      | 286kB 6.7MB/s eta 0:00:01\r\u001b[K     |█████████▋                      | 296kB 6.7MB/s eta 0:00:01\r\u001b[K     |██████████                      | 307kB 6.7MB/s eta 0:00:01\r\u001b[K     |██████████▎                     | 317kB 6.7MB/s eta 0:00:01\r\u001b[K     |██████████▋                     | 327kB 6.7MB/s eta 0:00:01\r\u001b[K     |███████████                     | 337kB 6.7MB/s eta 0:00:01\r\u001b[K     |███████████▎                    | 348kB 6.7MB/s eta 0:00:01\r\u001b[K     |███████████▋                    | 358kB 6.7MB/s eta 0:00:01\r\u001b[K     |████████████                    | 368kB 6.7MB/s eta 0:00:01\r\u001b[K     |████████████▎                   | 378kB 6.7MB/s eta 0:00:01\r\u001b[K     |████████████▋                   | 389kB 6.7MB/s eta 0:00:01\r\u001b[K     |█████████████                   | 399kB 6.7MB/s eta 0:00:01\r\u001b[K     |█████████████▎                  | 409kB 6.7MB/s eta 0:00:01\r\u001b[K     |█████████████▋                  | 419kB 6.7MB/s eta 0:00:01\r\u001b[K     |██████████████                  | 430kB 6.7MB/s eta 0:00:01\r\u001b[K     |██████████████▎                 | 440kB 6.7MB/s eta 0:00:01\r\u001b[K     |██████████████▋                 | 450kB 6.7MB/s eta 0:00:01\r\u001b[K     |███████████████                 | 460kB 6.7MB/s eta 0:00:01\r\u001b[K     |███████████████▎                | 471kB 6.7MB/s eta 0:00:01\r\u001b[K     |███████████████▋                | 481kB 6.7MB/s eta 0:00:01\r\u001b[K     |████████████████                | 491kB 6.7MB/s eta 0:00:01\r\u001b[K     |████████████████▎               | 501kB 6.7MB/s eta 0:00:01\r\u001b[K     |████████████████▋               | 512kB 6.7MB/s eta 0:00:01\r\u001b[K     |█████████████████               | 522kB 6.7MB/s eta 0:00:01\r\u001b[K     |█████████████████▎              | 532kB 6.7MB/s eta 0:00:01\r\u001b[K     |█████████████████▋              | 542kB 6.7MB/s eta 0:00:01\r\u001b[K     |██████████████████              | 552kB 6.7MB/s eta 0:00:01\r\u001b[K     |██████████████████▎             | 563kB 6.7MB/s eta 0:00:01\r\u001b[K     |██████████████████▋             | 573kB 6.7MB/s eta 0:00:01\r\u001b[K     |███████████████████             | 583kB 6.7MB/s eta 0:00:01\r\u001b[K     |███████████████████▎            | 593kB 6.7MB/s eta 0:00:01\r\u001b[K     |███████████████████▋            | 604kB 6.7MB/s eta 0:00:01\r\u001b[K     |████████████████████            | 614kB 6.7MB/s eta 0:00:01\r\u001b[K     |████████████████████▎           | 624kB 6.7MB/s eta 0:00:01\r\u001b[K     |████████████████████▋           | 634kB 6.7MB/s eta 0:00:01\r\u001b[K     |█████████████████████           | 645kB 6.7MB/s eta 0:00:01\r\u001b[K     |█████████████████████▎          | 655kB 6.7MB/s eta 0:00:01\r\u001b[K     |█████████████████████▋          | 665kB 6.7MB/s eta 0:00:01\r\u001b[K     |██████████████████████          | 675kB 6.7MB/s eta 0:00:01\r\u001b[K     |██████████████████████▎         | 686kB 6.7MB/s eta 0:00:01\r\u001b[K     |██████████████████████▋         | 696kB 6.7MB/s eta 0:00:01\r\u001b[K     |███████████████████████         | 706kB 6.7MB/s eta 0:00:01\r\u001b[K     |███████████████████████▎        | 716kB 6.7MB/s eta 0:00:01\r\u001b[K     |███████████████████████▋        | 727kB 6.7MB/s eta 0:00:01\r\u001b[K     |████████████████████████        | 737kB 6.7MB/s eta 0:00:01\r\u001b[K     |████████████████████████▎       | 747kB 6.7MB/s eta 0:00:01\r\u001b[K     |████████████████████████▋       | 757kB 6.7MB/s eta 0:00:01\r\u001b[K     |████████████████████████▉       | 768kB 6.7MB/s eta 0:00:01\r\u001b[K     |█████████████████████████▏      | 778kB 6.7MB/s eta 0:00:01\r\u001b[K     |█████████████████████████▌      | 788kB 6.7MB/s eta 0:00:01\r\u001b[K     |█████████████████████████▉      | 798kB 6.7MB/s eta 0:00:01\r\u001b[K     |██████████████████████████▏     | 808kB 6.7MB/s eta 0:00:01\r\u001b[K     |██████████████████████████▌     | 819kB 6.7MB/s eta 0:00:01\r\u001b[K     |██████████████████████████▉     | 829kB 6.7MB/s eta 0:00:01\r\u001b[K     |███████████████████████████▏    | 839kB 6.7MB/s eta 0:00:01\r\u001b[K     |███████████████████████████▌    | 849kB 6.7MB/s eta 0:00:01\r\u001b[K     |███████████████████████████▉    | 860kB 6.7MB/s eta 0:00:01\r\u001b[K     |████████████████████████████▏   | 870kB 6.7MB/s eta 0:00:01\r\u001b[K     |████████████████████████████▌   | 880kB 6.7MB/s eta 0:00:01\r\u001b[K     |████████████████████████████▉   | 890kB 6.7MB/s eta 0:00:01\r\u001b[K     |█████████████████████████████▏  | 901kB 6.7MB/s eta 0:00:01\r\u001b[K     |█████████████████████████████▌  | 911kB 6.7MB/s eta 0:00:01\r\u001b[K     |█████████████████████████████▉  | 921kB 6.7MB/s eta 0:00:01\r\u001b[K     |██████████████████████████████▏ | 931kB 6.7MB/s eta 0:00:01\r\u001b[K     |██████████████████████████████▌ | 942kB 6.7MB/s eta 0:00:01\r\u001b[K     |██████████████████████████████▉ | 952kB 6.7MB/s eta 0:00:01\r\u001b[K     |███████████████████████████████▏| 962kB 6.7MB/s eta 0:00:01\r\u001b[K     |███████████████████████████████▌| 972kB 6.7MB/s eta 0:00:01\r\u001b[K     |███████████████████████████████▉| 983kB 6.7MB/s eta 0:00:01\r\u001b[K     |████████████████████████████████| 993kB 6.7MB/s \n",
            "\u001b[?25h  Building wheel for PyDrive (setup.py) ... \u001b[?25l\u001b[?25hdone\n",
            "Requirement already satisfied: keras in /usr/local/lib/python3.6/dist-packages (2.2.4)\n",
            "Requirement already satisfied: six>=1.9.0 in /usr/local/lib/python3.6/dist-packages (from keras) (1.12.0)\n",
            "Requirement already satisfied: keras-applications>=1.0.6 in /usr/local/lib/python3.6/dist-packages (from keras) (1.0.8)\n",
            "Requirement already satisfied: scipy>=0.14 in /usr/local/lib/python3.6/dist-packages (from keras) (1.3.0)\n",
            "Requirement already satisfied: keras-preprocessing>=1.0.5 in /usr/local/lib/python3.6/dist-packages (from keras) (1.1.0)\n",
            "Requirement already satisfied: h5py in /usr/local/lib/python3.6/dist-packages (from keras) (2.8.0)\n",
            "Requirement already satisfied: numpy>=1.9.1 in /usr/local/lib/python3.6/dist-packages (from keras) (1.16.4)\n",
            "Requirement already satisfied: pyyaml in /usr/local/lib/python3.6/dist-packages (from keras) (3.13)\n"
          ],
          "name": "stdout"
        }
      ]
    },
    {
      "cell_type": "markdown",
      "metadata": {
        "id": "adlmezFgd1n6",
        "colab_type": "text"
      },
      "source": [
        "### Import packages"
      ]
    },
    {
      "cell_type": "code",
      "metadata": {
        "id": "Qnw76WzScwoM",
        "colab_type": "code",
        "colab": {
          "base_uri": "https://localhost:8080/",
          "height": 33
        },
        "outputId": "da97deef-9f48-405f-a681-1845d0b65233"
      },
      "source": [
        "# Import packages\n",
        "import os\n",
        "import keras\n",
        "import numpy as np\n",
        "from google.colab import auth\n",
        "from pydrive.auth import GoogleAuth\n",
        "from pydrive.drive import GoogleDrive\n",
        "from oauth2client.client import GoogleCredentials\n",
        "from keras.applications.resnet50 import preprocess_input, decode_predictions"
      ],
      "execution_count": 2,
      "outputs": [
        {
          "output_type": "stream",
          "text": [
            "Using TensorFlow backend.\n"
          ],
          "name": "stderr"
        }
      ]
    },
    {
      "cell_type": "markdown",
      "metadata": {
        "id": "PXClok5TduL-",
        "colab_type": "text"
      },
      "source": [
        "### Mount data"
      ]
    },
    {
      "cell_type": "code",
      "metadata": {
        "id": "yLzWF5ZDdsa1",
        "colab_type": "code",
        "outputId": "61045f93-0eac-4f08-fd2e-023182aa8f3b",
        "colab": {
          "base_uri": "https://localhost:8080/",
          "height": 118
        }
      },
      "source": [
        "# Mount data from Google drive\n",
        "from google.colab import drive\n",
        "drive.mount('/content/gdrive', force_remount=True)"
      ],
      "execution_count": 3,
      "outputs": [
        {
          "output_type": "stream",
          "text": [
            "Go to this URL in a browser: https://accounts.google.com/o/oauth2/auth?client_id=947318989803-6bn6qk8qdgf4n4g3pfee6491hc0brc4i.apps.googleusercontent.com&redirect_uri=urn%3Aietf%3Awg%3Aoauth%3A2.0%3Aoob&scope=email%20https%3A%2F%2Fwww.googleapis.com%2Fauth%2Fdocs.test%20https%3A%2F%2Fwww.googleapis.com%2Fauth%2Fdrive%20https%3A%2F%2Fwww.googleapis.com%2Fauth%2Fdrive.photos.readonly%20https%3A%2F%2Fwww.googleapis.com%2Fauth%2Fpeopleapi.readonly&response_type=code\n",
            "\n",
            "Enter your authorization code:\n",
            "··········\n",
            "Mounted at /content/gdrive\n"
          ],
          "name": "stdout"
        }
      ]
    },
    {
      "cell_type": "code",
      "metadata": {
        "id": "YiSw3J52Yd7e",
        "colab_type": "code",
        "colab": {}
      },
      "source": [
        "# Authenticate and create the PyDrive client.\n",
        "auth.authenticate_user()\n",
        "google_auth = GoogleAuth()\n",
        "google_auth.credentials = GoogleCredentials.get_application_default()\n",
        "drive = GoogleDrive(google_auth)"
      ],
      "execution_count": 0,
      "outputs": []
    },
    {
      "cell_type": "code",
      "metadata": {
        "id": "l39LB3QCfAeo",
        "colab_type": "code",
        "colab": {}
      },
      "source": [
        "from os import listdir\n",
        "from pickle import dump\n",
        "from keras.applications.vgg16 import VGG16\n",
        "from keras.preprocessing.image import load_img\n",
        "from keras.preprocessing.image import img_to_array\n",
        "from keras.applications.vgg16 import preprocess_input\n",
        "from keras.models import Model"
      ],
      "execution_count": 0,
      "outputs": []
    },
    {
      "cell_type": "markdown",
      "metadata": {
        "id": "aq0Hz5W-v7_y",
        "colab_type": "text"
      },
      "source": [
        "Load VGG model with pretrained weights."
      ]
    },
    {
      "cell_type": "code",
      "metadata": {
        "id": "o3G427J_v7CA",
        "colab_type": "code",
        "colab": {
          "base_uri": "https://localhost:8080/",
          "height": 1142
        },
        "outputId": "1c1ce87d-e57a-4ee6-f11f-eaa3ad64e646"
      },
      "source": [
        "# load the model\n",
        "model = VGG16()\n",
        "\n",
        "# summarise model\n",
        "model.summary()"
      ],
      "execution_count": 6,
      "outputs": [
        {
          "output_type": "stream",
          "text": [
            "WARNING: Logging before flag parsing goes to stderr.\n",
            "W0616 14:57:52.738249 139699512551296 deprecation_wrapper.py:119] From /usr/local/lib/python3.6/dist-packages/keras/backend/tensorflow_backend.py:74: The name tf.get_default_graph is deprecated. Please use tf.compat.v1.get_default_graph instead.\n",
            "\n",
            "W0616 14:57:52.792993 139699512551296 deprecation_wrapper.py:119] From /usr/local/lib/python3.6/dist-packages/keras/backend/tensorflow_backend.py:517: The name tf.placeholder is deprecated. Please use tf.compat.v1.placeholder instead.\n",
            "\n",
            "W0616 14:57:52.801836 139699512551296 deprecation_wrapper.py:119] From /usr/local/lib/python3.6/dist-packages/keras/backend/tensorflow_backend.py:4138: The name tf.random_uniform is deprecated. Please use tf.random.uniform instead.\n",
            "\n",
            "W0616 14:57:52.849467 139699512551296 deprecation_wrapper.py:119] From /usr/local/lib/python3.6/dist-packages/keras/backend/tensorflow_backend.py:3976: The name tf.nn.max_pool is deprecated. Please use tf.nn.max_pool2d instead.\n",
            "\n"
          ],
          "name": "stderr"
        },
        {
          "output_type": "stream",
          "text": [
            "Downloading data from https://github.com/fchollet/deep-learning-models/releases/download/v0.1/vgg16_weights_tf_dim_ordering_tf_kernels.h5\n",
            "553467904/553467096 [==============================] - 21s 0us/step\n"
          ],
          "name": "stdout"
        },
        {
          "output_type": "stream",
          "text": [
            "W0616 14:58:14.798727 139699512551296 deprecation_wrapper.py:119] From /usr/local/lib/python3.6/dist-packages/keras/backend/tensorflow_backend.py:174: The name tf.get_default_session is deprecated. Please use tf.compat.v1.get_default_session instead.\n",
            "\n",
            "W0616 14:58:14.800159 139699512551296 deprecation_wrapper.py:119] From /usr/local/lib/python3.6/dist-packages/keras/backend/tensorflow_backend.py:181: The name tf.ConfigProto is deprecated. Please use tf.compat.v1.ConfigProto instead.\n",
            "\n"
          ],
          "name": "stderr"
        },
        {
          "output_type": "stream",
          "text": [
            "_________________________________________________________________\n",
            "Layer (type)                 Output Shape              Param #   \n",
            "=================================================================\n",
            "input_1 (InputLayer)         (None, 224, 224, 3)       0         \n",
            "_________________________________________________________________\n",
            "block1_conv1 (Conv2D)        (None, 224, 224, 64)      1792      \n",
            "_________________________________________________________________\n",
            "block1_conv2 (Conv2D)        (None, 224, 224, 64)      36928     \n",
            "_________________________________________________________________\n",
            "block1_pool (MaxPooling2D)   (None, 112, 112, 64)      0         \n",
            "_________________________________________________________________\n",
            "block2_conv1 (Conv2D)        (None, 112, 112, 128)     73856     \n",
            "_________________________________________________________________\n",
            "block2_conv2 (Conv2D)        (None, 112, 112, 128)     147584    \n",
            "_________________________________________________________________\n",
            "block2_pool (MaxPooling2D)   (None, 56, 56, 128)       0         \n",
            "_________________________________________________________________\n",
            "block3_conv1 (Conv2D)        (None, 56, 56, 256)       295168    \n",
            "_________________________________________________________________\n",
            "block3_conv2 (Conv2D)        (None, 56, 56, 256)       590080    \n",
            "_________________________________________________________________\n",
            "block3_conv3 (Conv2D)        (None, 56, 56, 256)       590080    \n",
            "_________________________________________________________________\n",
            "block3_pool (MaxPooling2D)   (None, 28, 28, 256)       0         \n",
            "_________________________________________________________________\n",
            "block4_conv1 (Conv2D)        (None, 28, 28, 512)       1180160   \n",
            "_________________________________________________________________\n",
            "block4_conv2 (Conv2D)        (None, 28, 28, 512)       2359808   \n",
            "_________________________________________________________________\n",
            "block4_conv3 (Conv2D)        (None, 28, 28, 512)       2359808   \n",
            "_________________________________________________________________\n",
            "block4_pool (MaxPooling2D)   (None, 14, 14, 512)       0         \n",
            "_________________________________________________________________\n",
            "block5_conv1 (Conv2D)        (None, 14, 14, 512)       2359808   \n",
            "_________________________________________________________________\n",
            "block5_conv2 (Conv2D)        (None, 14, 14, 512)       2359808   \n",
            "_________________________________________________________________\n",
            "block5_conv3 (Conv2D)        (None, 14, 14, 512)       2359808   \n",
            "_________________________________________________________________\n",
            "block5_pool (MaxPooling2D)   (None, 7, 7, 512)         0         \n",
            "_________________________________________________________________\n",
            "flatten (Flatten)            (None, 25088)             0         \n",
            "_________________________________________________________________\n",
            "fc1 (Dense)                  (None, 4096)              102764544 \n",
            "_________________________________________________________________\n",
            "fc2 (Dense)                  (None, 4096)              16781312  \n",
            "_________________________________________________________________\n",
            "predictions (Dense)          (None, 1000)              4097000   \n",
            "=================================================================\n",
            "Total params: 138,357,544\n",
            "Trainable params: 138,357,544\n",
            "Non-trainable params: 0\n",
            "_________________________________________________________________\n"
          ],
          "name": "stdout"
        }
      ]
    },
    {
      "cell_type": "markdown",
      "metadata": {
        "id": "7Wyj6KL_xIGr",
        "colab_type": "text"
      },
      "source": [
        "Remove the last layer from the VGG model."
      ]
    },
    {
      "cell_type": "code",
      "metadata": {
        "id": "yxk_t4UAw1qO",
        "colab_type": "code",
        "colab": {
          "base_uri": "https://localhost:8080/",
          "height": 846
        },
        "outputId": "4c6c2bac-cf79-4cc6-a84d-313241f62a0d"
      },
      "source": [
        "# remove the prediction layer from the model\n",
        "model.layers.pop()\n",
        "\n",
        "# summarise model\n",
        "model.summary()"
      ],
      "execution_count": 7,
      "outputs": [
        {
          "output_type": "stream",
          "text": [
            "_________________________________________________________________\n",
            "Layer (type)                 Output Shape              Param #   \n",
            "=================================================================\n",
            "input_1 (InputLayer)         (None, 224, 224, 3)       0         \n",
            "_________________________________________________________________\n",
            "block1_conv1 (Conv2D)        (None, 224, 224, 64)      1792      \n",
            "_________________________________________________________________\n",
            "block1_conv2 (Conv2D)        (None, 224, 224, 64)      36928     \n",
            "_________________________________________________________________\n",
            "block1_pool (MaxPooling2D)   (None, 112, 112, 64)      0         \n",
            "_________________________________________________________________\n",
            "block2_conv1 (Conv2D)        (None, 112, 112, 128)     73856     \n",
            "_________________________________________________________________\n",
            "block2_conv2 (Conv2D)        (None, 112, 112, 128)     147584    \n",
            "_________________________________________________________________\n",
            "block2_pool (MaxPooling2D)   (None, 56, 56, 128)       0         \n",
            "_________________________________________________________________\n",
            "block3_conv1 (Conv2D)        (None, 56, 56, 256)       295168    \n",
            "_________________________________________________________________\n",
            "block3_conv2 (Conv2D)        (None, 56, 56, 256)       590080    \n",
            "_________________________________________________________________\n",
            "block3_conv3 (Conv2D)        (None, 56, 56, 256)       590080    \n",
            "_________________________________________________________________\n",
            "block3_pool (MaxPooling2D)   (None, 28, 28, 256)       0         \n",
            "_________________________________________________________________\n",
            "block4_conv1 (Conv2D)        (None, 28, 28, 512)       1180160   \n",
            "_________________________________________________________________\n",
            "block4_conv2 (Conv2D)        (None, 28, 28, 512)       2359808   \n",
            "_________________________________________________________________\n",
            "block4_conv3 (Conv2D)        (None, 28, 28, 512)       2359808   \n",
            "_________________________________________________________________\n",
            "block4_pool (MaxPooling2D)   (None, 14, 14, 512)       0         \n",
            "_________________________________________________________________\n",
            "block5_conv1 (Conv2D)        (None, 14, 14, 512)       2359808   \n",
            "_________________________________________________________________\n",
            "block5_conv2 (Conv2D)        (None, 14, 14, 512)       2359808   \n",
            "_________________________________________________________________\n",
            "block5_conv3 (Conv2D)        (None, 14, 14, 512)       2359808   \n",
            "_________________________________________________________________\n",
            "block5_pool (MaxPooling2D)   (None, 7, 7, 512)         0         \n",
            "_________________________________________________________________\n",
            "flatten (Flatten)            (None, 25088)             0         \n",
            "_________________________________________________________________\n",
            "fc1 (Dense)                  (None, 4096)              102764544 \n",
            "_________________________________________________________________\n",
            "fc2 (Dense)                  (None, 4096)              16781312  \n",
            "=================================================================\n",
            "Total params: 134,260,544\n",
            "Trainable params: 134,260,544\n",
            "Non-trainable params: 0\n",
            "_________________________________________________________________\n"
          ],
          "name": "stdout"
        }
      ]
    },
    {
      "cell_type": "markdown",
      "metadata": {
        "id": "TJILL0MFIOjX",
        "colab_type": "text"
      },
      "source": [
        "There are no non-trainable parameters as we have removed the prediction layer."
      ]
    },
    {
      "cell_type": "code",
      "metadata": {
        "id": "2vRSO7upAePl",
        "colab_type": "code",
        "colab": {
          "base_uri": "https://localhost:8080/",
          "height": 862
        },
        "outputId": "4360289c-1f6c-42e6-e30f-f7783cbe2b2f"
      },
      "source": [
        "# instantiate model with input and output tensor\n",
        "model = Model(inputs=model.inputs, outputs=model.layers[-1].output)\n",
        "\n",
        "# summarize model\n",
        "print(model.summary()) "
      ],
      "execution_count": 8,
      "outputs": [
        {
          "output_type": "stream",
          "text": [
            "_________________________________________________________________\n",
            "Layer (type)                 Output Shape              Param #   \n",
            "=================================================================\n",
            "input_1 (InputLayer)         (None, 224, 224, 3)       0         \n",
            "_________________________________________________________________\n",
            "block1_conv1 (Conv2D)        (None, 224, 224, 64)      1792      \n",
            "_________________________________________________________________\n",
            "block1_conv2 (Conv2D)        (None, 224, 224, 64)      36928     \n",
            "_________________________________________________________________\n",
            "block1_pool (MaxPooling2D)   (None, 112, 112, 64)      0         \n",
            "_________________________________________________________________\n",
            "block2_conv1 (Conv2D)        (None, 112, 112, 128)     73856     \n",
            "_________________________________________________________________\n",
            "block2_conv2 (Conv2D)        (None, 112, 112, 128)     147584    \n",
            "_________________________________________________________________\n",
            "block2_pool (MaxPooling2D)   (None, 56, 56, 128)       0         \n",
            "_________________________________________________________________\n",
            "block3_conv1 (Conv2D)        (None, 56, 56, 256)       295168    \n",
            "_________________________________________________________________\n",
            "block3_conv2 (Conv2D)        (None, 56, 56, 256)       590080    \n",
            "_________________________________________________________________\n",
            "block3_conv3 (Conv2D)        (None, 56, 56, 256)       590080    \n",
            "_________________________________________________________________\n",
            "block3_pool (MaxPooling2D)   (None, 28, 28, 256)       0         \n",
            "_________________________________________________________________\n",
            "block4_conv1 (Conv2D)        (None, 28, 28, 512)       1180160   \n",
            "_________________________________________________________________\n",
            "block4_conv2 (Conv2D)        (None, 28, 28, 512)       2359808   \n",
            "_________________________________________________________________\n",
            "block4_conv3 (Conv2D)        (None, 28, 28, 512)       2359808   \n",
            "_________________________________________________________________\n",
            "block4_pool (MaxPooling2D)   (None, 14, 14, 512)       0         \n",
            "_________________________________________________________________\n",
            "block5_conv1 (Conv2D)        (None, 14, 14, 512)       2359808   \n",
            "_________________________________________________________________\n",
            "block5_conv2 (Conv2D)        (None, 14, 14, 512)       2359808   \n",
            "_________________________________________________________________\n",
            "block5_conv3 (Conv2D)        (None, 14, 14, 512)       2359808   \n",
            "_________________________________________________________________\n",
            "block5_pool (MaxPooling2D)   (None, 7, 7, 512)         0         \n",
            "_________________________________________________________________\n",
            "flatten (Flatten)            (None, 25088)             0         \n",
            "_________________________________________________________________\n",
            "fc1 (Dense)                  (None, 4096)              102764544 \n",
            "_________________________________________________________________\n",
            "fc2 (Dense)                  (None, 4096)              16781312  \n",
            "=================================================================\n",
            "Total params: 134,260,544\n",
            "Trainable params: 134,260,544\n",
            "Non-trainable params: 0\n",
            "_________________________________________________________________\n",
            "None\n"
          ],
          "name": "stdout"
        }
      ]
    },
    {
      "cell_type": "code",
      "metadata": {
        "id": "oi6qdmYCgvpu",
        "colab_type": "code",
        "colab": {}
      },
      "source": [
        "'''\n",
        "extracts features from each photo in the directory\n",
        "\n",
        "Input:\n",
        "path of the directory\n",
        "\n",
        "Returns:\n",
        "dictionary of file name as key and feature as value\n",
        "\n",
        "'''\n",
        "def extract_features(directory):\n",
        "  \n",
        "  # instantiate a dictionary object to store the features\n",
        "  features = dict()\n",
        "  \n",
        "  for name in listdir(directory):\n",
        "    \n",
        "    # load an image from file\n",
        "    filename = directory + '/' + name\n",
        "    \n",
        "    # resize to 224*224 image to train on VGG model\n",
        "    image = load_img(filename, target_size=(224, 224))\n",
        "    \n",
        "    # convert the image pixels to a numpy array\n",
        "    image = img_to_array(image)\n",
        "    \n",
        "    # reshape array to take images in batches\n",
        "    image = image.reshape((1, image.shape[0], image.shape[1], image.shape[2]))\n",
        "    \n",
        "    # normalise array based on the model\n",
        "    image = preprocess_input(image)\n",
        "    \n",
        "    # extract features\n",
        "    feature = model.predict(image, verbose=0)\n",
        "    \n",
        "    # get the names of the image file\n",
        "    image_id = name.split('.')[0]\n",
        "    \n",
        "    # pass file name as key and extracted features as value\n",
        "    features[image_id] = feature\n",
        "    \n",
        "  return features"
      ],
      "execution_count": 0,
      "outputs": []
    },
    {
      "cell_type": "code",
      "metadata": {
        "id": "LefoUs1Ig5rK",
        "colab_type": "code",
        "outputId": "4606d093-17f9-44f9-b83b-25a21f42e5ac",
        "colab": {
          "base_uri": "https://localhost:8080/",
          "height": 33
        }
      },
      "source": [
        "# extract features from all images\n",
        "directory = 'gdrive/My Drive/data/flickr8k_Dataset'\n",
        "features = extract_features(directory)\n",
        "\n",
        "print('Extracted Features: %d' % len(features))\n",
        "\n",
        "# save to file\n",
        "dump(features, open('features.pkl', 'wb'))"
      ],
      "execution_count": 11,
      "outputs": [
        {
          "output_type": "stream",
          "text": [
            "Extracted Features: 8110\n"
          ],
          "name": "stdout"
        }
      ]
    },
    {
      "cell_type": "markdown",
      "metadata": {
        "id": "N1kLxVl_X5cn",
        "colab_type": "text"
      },
      "source": [
        "### Prepare text data"
      ]
    },
    {
      "cell_type": "code",
      "metadata": {
        "id": "QSMhmQdAiOBJ",
        "colab_type": "code",
        "colab": {}
      },
      "source": [
        "import string\n",
        "\n",
        "'''\n",
        "load doc into memory\n",
        "\n",
        "Input:\n",
        "filename\n",
        "\n",
        "Returns:\n",
        "text in the file\n",
        "'''\n",
        "def load_doc(filename):\n",
        "  \n",
        "\t# open the file as read only\n",
        "\tfile = open(filename, 'r')\n",
        "  \n",
        "\t# read all text\n",
        "\ttext = file.read()\n",
        "  \n",
        "\t# close the file\n",
        "\tfile.close()\n",
        "  \n",
        "\treturn text"
      ],
      "execution_count": 0,
      "outputs": []
    },
    {
      "cell_type": "code",
      "metadata": {
        "id": "QUXYd_nps9Ph",
        "colab_type": "code",
        "colab": {}
      },
      "source": [
        "'''\n",
        "# extract descriptions for images\n",
        "\n",
        "Input: \n",
        "text in Flickr8k.token.txt file\n",
        "\n",
        "Returns:\n",
        "dictionary of image_id and image descriptions\n",
        "'''\n",
        "\n",
        "def load_descriptions(doc):\n",
        "  \n",
        "  mapping = dict()\n",
        "  \n",
        "  # loop through each line\n",
        "  for line in doc.split('\\n'):\n",
        "    \n",
        "    # split line by white space\n",
        "    tokens = line.split()\n",
        "    \n",
        "    # skip lines that has length <2\n",
        "    if len(line) < 2:\n",
        "      continue\n",
        "    \n",
        "    # take the first token as the image id, the rest as the description\n",
        "    image_id, image_desc = tokens[0], tokens[1:]\n",
        "    \n",
        "    # extract filename from image_id\n",
        "    image_id = image_id.split('.')[0]\n",
        "    \n",
        "    # convert description tokens back to string with white spaces\n",
        "    image_desc = ' '.join(image_desc)\n",
        "    \n",
        "    # create a list for each image_id\n",
        "    if image_id not in mapping:\n",
        "      mapping[image_id] = list()\n",
        "      \n",
        "    # store description\n",
        "    mapping[image_id].append(image_desc)\n",
        "    \n",
        "  return mapping"
      ],
      "execution_count": 0,
      "outputs": []
    },
    {
      "cell_type": "code",
      "metadata": {
        "id": "xrHjuwuO0622",
        "colab_type": "code",
        "colab": {}
      },
      "source": [
        "'''\n",
        "# clean descriptions\n",
        "\n",
        "Input:\n",
        "dictionary of image_id and image descriptions\n",
        "\n",
        "'''\n",
        "\n",
        "def clean_descriptions(descriptions):\n",
        "  \n",
        "\t# prepare translation table for removing punctuation\n",
        "\ttable = str.maketrans('', '', string.punctuation)\n",
        "  \n",
        "  # loop through the dictionary\n",
        "\tfor key, desc_list in descriptions.items():\n",
        "    \n",
        "    # loop through each item in the list\n",
        "\t\tfor i in range(len(desc_list)):\n",
        "      \n",
        "\t\t\tdesc = desc_list[i]\n",
        "      \n",
        "\t\t\t# tokenize\n",
        "\t\t\tdesc = desc.split()\n",
        "      \n",
        "\t\t\t# convert to lower case\n",
        "\t\t\tdesc = [word.lower() for word in desc]\n",
        "      \n",
        "\t\t\t# remove punctuation from each token\n",
        "\t\t\tdesc = [w.translate(table) for w in desc]\n",
        "      \n",
        "\t\t\t# remove hanging 's' and 'a'\n",
        "\t\t\tdesc = [word for word in desc if len(word)>1]\n",
        "      \n",
        "\t\t\t# remove tokens with numbers in them\n",
        "\t\t\tdesc = [word for word in desc if word.isalpha()]\n",
        "      \n",
        "\t\t\t# store as string\n",
        "\t\t\tdesc_list[i] =  ' '.join(desc)"
      ],
      "execution_count": 0,
      "outputs": []
    },
    {
      "cell_type": "code",
      "metadata": {
        "id": "cPSgqi5C2Am4",
        "colab_type": "code",
        "colab": {}
      },
      "source": [
        "'''\n",
        "# convert the loaded descriptions into a vocabulary of words\n",
        "\n",
        "Input:\n",
        "dictionary of image_id and image descriptions\n",
        "\n",
        "Output:\n",
        "list of words in the descriptions\n",
        "\n",
        "'''\n",
        "\n",
        "def to_vocabulory(descriptions):\n",
        "  \n",
        "  # build a list of a description strings\n",
        "  all_desc = set()\n",
        "  \n",
        "  # loop through each key in desc dictionary\n",
        "  for key in descriptions.keys():\n",
        "    \n",
        "    # add words in the description to list\n",
        "    [all_desc.update(d.split()) for d in descriptions[key]]\n",
        "    \n",
        "  return all_desc"
      ],
      "execution_count": 0,
      "outputs": []
    },
    {
      "cell_type": "code",
      "metadata": {
        "id": "bPMPspck2HEW",
        "colab_type": "code",
        "colab": {}
      },
      "source": [
        "'''\n",
        "# save descriptions to file, one per line\n",
        "\n",
        "Input:\n",
        "descriptions - dictionary of image_id and image descriptions\n",
        "filename - name of the file to save descriptions\n",
        "\n",
        "Output:\n",
        "\n",
        "'''\n",
        "def save_descriptions(descriptions, filename):\n",
        "  \n",
        "  # instantiate an empty list\n",
        "\tlines = list()\n",
        "  \n",
        "  # loop through description dictionary\n",
        "\tfor key, desc_list in descriptions.items():\n",
        "    \n",
        "    # loop through description list\n",
        "\t\tfor desc in desc_list:\n",
        "      \n",
        "      # concatenate image_id and cleaned descriptions \n",
        "      # in a single line and add it to list\n",
        "\t\t\tlines.append(key + ' ' + desc)\n",
        "  \n",
        "  # create new line for each list item\n",
        "\tdata = '\\n'.join(lines)\n",
        "  \n",
        "  # create file with write permission\n",
        "\tfile = open(filename, 'w')\n",
        "  \n",
        "  # write data to file\n",
        "\tfile.write(data)\n",
        "  \n",
        "  # close file\n",
        "\tfile.close()"
      ],
      "execution_count": 0,
      "outputs": []
    },
    {
      "cell_type": "code",
      "metadata": {
        "id": "iY0VUOYC2B0R",
        "colab_type": "code",
        "colab": {
          "base_uri": "https://localhost:8080/",
          "height": 86
        },
        "outputId": "ff281dc6-2914-42c5-8124-47c0427f85de"
      },
      "source": [
        "filename = 'gdrive/My Drive/data/flickr8k_text/Flickr8k.token.txt'\n",
        "\n",
        "# load descriptions\n",
        "doc = load_doc(filename)\n",
        "\n",
        "# parse descriptions\n",
        "descriptions = load_descriptions(doc)\n",
        "print('Loaded: %d ' % len(descriptions))\n",
        "\n",
        "# clean descriptions\n",
        "clean_descriptions(descriptions)\n",
        "\n",
        "# summarize vocabulary\n",
        "vocabulary = to_vocabulary(descriptions)\n",
        "print('Vocabulary Size: %d' % len(vocabulary))\n",
        "\n",
        "# save to file\n",
        "save_descriptions(descriptions, 'descriptions.txt')"
      ],
      "execution_count": 45,
      "outputs": [
        {
          "output_type": "stream",
          "text": [
            "Loaded: 8092 \n",
            "{'staff', 'surfers', 'africanamerican', 'away', 'duel', 'held', 'listening', 'nike', 'limbs', 'weather', 'exercises', 'disks', 'legos', 'frog', 'saver', 'flanked', 'bordered', 'painting', 'winces', 'blowing', 'sunning', 'cart', 'helps', 'tugofwar', 'flannel', 'series', 'celebrates', 'what', 'gyro', 'symbol', 'ponytailed', 'somone', 'hikes', 'neck', 'presenting', 'found', 'instruments', 'setup', 'top', 'heavily', 'visitor', 'dirty', 'umpire', 'chris', 'goods', 'squares', 'flakes', 'tinsel', 'steady', 'ringing', 'one', 'winter', 'lakefront', 'spiderman', 'best', 'indoor', 'pom', 'fedora', 'sheltered', 'attentive', 'pocket', 'shadowy', 'golf', 'whitebearded', 'platform', 'armoire', 'dappled', 'corner', 'closeup', 'underpants', 'hammer', 'examining', 'branded', 'bead', 'creative', 'pinstripe', 'blackclad', 'bull', 'railgrind', 'stoop', 'vegas', 'decorative', 'distorted', 'overcast', 'backsides', 'punkish', 'sparking', 'move', 'scrimmage', 'breakdancer', 'bundled', 'greysuited', 'miasto', 'spacious', 'without', 'competition', 'cobblestone', 'headlong', 'unhappy', 'when', 'surfer', 'soars', 'snowpile', 'rockclimber', 'dimmly', 'tear', 'gains', 'saxophones', 'toetouch', 'find', 'drinking', 'apples', 'participating', 'disabled', 'rappeling', 'loader', 'feet', 'pasture', 'rabbit', 'donkey', 'clutches', 'excercise', 'loses', 'congregated', 'girder', 'lafayette', 'actions', 'sprinking', 'grasping', 'majestically', 'flock', 'jazz', 'mouthpiece', 'perused', 'rippling', 'teammates', 'jackson', 'charging', 'oceanside', 'fiddles', 'waterfront', 'spoke', 'dogshirt', 'fear', 'dirtcovered', 'earflaps', 'curled', 'breezeway', 'accent', 'rink', 'portable', 'sunglasses', 'tulips', 'bubbling', 'lecture', 'stockcar', 'recital', 'stunning', 'armstand', 'telescope', 'window', 'nestled', 'kneels', 'tackler', 'within', 'established', 'sheepdog', 'incoming', 'caught', 'explosion', 'mudwrestle', 'dirtyblonde', 'compound', 'mans', 'garment', 'ridding', 'aerodynamically', 'flowery', 'guns', 'receiver', 'pipes', 'located', 'sidebyside', 'courthouse', 'partake', 'megaphone', 'boxers', 'contact', 'air', 'behinf', 'propel', 'gather', 'than', 'browses', 'calf', 'shares', 'tuft', 'scottish', 'bark', 'coopers', 'portfolio', 'gras', 'miscellaneous', 'petterned', 'creating', 'blocks', 'fairgrounds', 'cubicle', 'agency', 'adorn', 'fame', 'retreiving', 'nap', 'halway', 'league', 'tassel', 'darkened', 'golden', 'mustache', 'inflatable', 'vaults', 'reddish', 'frisbree', 'smock', 'sides', 'wrestles', 'underbrush', 'wakeboard', 'id', 'colorings', 'egret', 'florist', 'arched', 'glow', 'ceramic', 'national', 'brings', 'tell', 'home', 'hell', 'smal', 'bordering', 'lited', 'profile', 'lkievely', 'looker', 'rv', 'interacting', 'submissive', 'melted', 'appearing', 'prays', 'playes', 'purses', 'extends', 'writing', 'parachuting', 'flips', 'advertisment', 'cyclists', 'drives', 'wanders', 'snowscapes', 'mambo', 'concerned', 'magazines', 'surges', 'peacefully', 'parachuter', 'rag', 'trees', 'wellkept', 'domes', 'sledder', 'electronics', 'novel', 'spraying', 'ballons', 'youngsters', 'peaking', 'ax', 'kart', 'bowler', 'snowdrift', 'adjust', 'overweight', 'shotput', 'staircase', 'motivation', 'portrate', 'rail', 'filming', 'corporate', 'cockpit', 'mess', 'coloring', 'instructs', 'pond', 'filed', 'shook', 'among', 'letter', 'grasses', 'bares', 'recreational', 'fork', 'sad', 'mean', 'hoes', 'company', 'headscarf', 'traversing', 'padded', 'minirace', 'breastfeeding', 'leafless', 'lighting', 'pushes', 'mid', 'source', 'cornstalks', 'dobermans', 'vaulated', 'offroading', 'smoke', 'autumnal', 'stepstool', 'shed', 'feamle', 'mast', 'lawn', 'demonstarting', 'moter', 'brightly', 'gated', 'thw', 'trying', 'nightclub', 'size', 'prevent', 'pigeon', 'verizon', 'twin', 'right', 'propelled', 'photography', 'beack', 'seaweed', 'curly', 'trotted', 'dribbles', 'rapidly', 'squats', 'skinned', 'sleeding', 'remember', 'persues', 'beverage', 'citizen', 'tinted', 'facility', 'bluff', 'gloves', 'archer', 'perforced', 'lawnmower', 'lines', 'elbows', 'squated', 'relection', 'fro', 'bting', 'brave', 'creams', 'sleeves', 'huts', 'fetching', 'rather', 'medieval', 'shoulderlength', 'presidential', 'blays', 'wierd', 'hoodedcoat', 'grouped', 'ride', 'bookshelf', 'husk', 'campus', 'villages', 'poll', 'decorated', 'leapfrog', 'sound', 'parasails', 'hallways', 'dave', 'pilings', 'snarly', 'passing', 'busters', 'abandoned', 'dimlight', 'hall', 'wildebeast', 'darkness', 'backback', 'mountian', 'porch', 'amazing', 'slushies', 'counter', 'secondstory', 'pull', 'railroad', 'florida', 'security', 'chickens', 'gear', 'mullet', 'snowboards', 'bicycles', 'muffler', 'receive', 'cramped', 'retreiver', 'bowl', 'lifesavers', 'terrorizes', 'peaceful', 'scent', 'fairly', 'fog', 'stuntleap', 'dotted', 'pet', 'herding', 'interesting', 'casually', 'star', 'valley', 'attemping', 'having', 'extremely', 'await', 'casuallydressed', 'coral', 'crying', 'recked', 'swam', 'protecting', 'controller', 'poems', 'sponsored', 'faucet', 'reception', 'tilling', 'serving', 'latter', 'soap', 'mesa', 'tightropes', 'bass', 'chairswing', 'torsodeep', 'wake', 'sideways', 'meetinghall', 'boe', 'thumbsup', 'grenade', 'skydiving', 'appears', 'closeby', 'hiviz', 'graham', 'scenic', 'any', 'hooking', 'railway', 'awaits', 'cds', 'spewing', 'becomes', 'collapsable', 'mule', 'bystander', 'vacant', 'waters', 'interracial', 'sort', 'root', 'crossing', 'abseiling', 'teal', 'waders', 'celebratory', 'stoll', 'closecropped', 'signed', 'actors', 'whist', 'budweiser', 'sailboats', 'gotten', 'landed', 'tugboat', 'firefighter', 'regalia', 'whitesuited', 'daughters', 'longhorns', 'tarp', 'mug', 'attempt', 'facial', 'rocker', 'zip', 'funny', 'lying', 'vests', 'tap', 'cargo', 'firedancer', 'overalls', 'young', 'laptop', 'screen', 'guides', 'torn', 'fixes', 'bust', 'badly', 'metropolitain', 'redclothed', 'mobility', 'pointed', 'wheelchair', 'running', 'dimlylit', 'cannons', 'surronded', 'protruding', 'mustached', 'silly', 'bathingsuit', 'stump', 'thirds', 'poor', 'curtain', 'cold', 'dunking', 'seal', 'parlor', 'sleve', 'beak', 'cocker', 'oak', 'daring', 'needle', 'watering', 'seems', 'litle', 'ghandi', 'sale', 'tent', 'bicyclists', 'check', 'scans', 'ornaments', 'pauses', 'uniquelyshaped', 'thought', 'snowboarders', 'wrinkley', 'engaged', 'dusted', 'dolphins', 'pushed', 'fanning', 'happily', 'produce', 'ee', 'sunshine', 'stork', 'penguins', 'amount', 'diagram', 'backgroud', 'only', 'kiosk', 'fronmt', 'wrangles', 'certificate', 'reared', 'wounded', 'winks', 'trunks', 'flaggers', 'bump', 'blownup', 'snowcovered', 'roiling', 'sweats', 'terrace', 'dramatically', 'khakicolored', 'toddles', 'resembles', 'weirmeiner', 'mixed', 'yawns', 'ac', 'misses', 'sum', 'tightrope', 'transport', 'feather', 'confront', 'outfits', 'malnourished', 'jars', 'dreadlocks', 'pinata', 'mom', 'moutains', 'walks', 'hung', 'halfcompleted', 'encounters', 'interacts', 'bohemian', 'perfume', 'much', 'draw', 'pressure', 'convention', 'kicks', 'sure', 'kneedeep', 'plant', 'wearfing', 'ferrett', 'inflatbale', 'bundledup', 'seed', 'proped', 'chasing', 'cheap', 'binoculars', 'hustle', 'furiously', 'lion', 'brush', 'deer', 'apparel', 'sidelines', 'collage', 'food', 'youn', 'tilting', 'backgound', 'towrope', 'mitten', 'grid', 'civil', 'full', 'thorugh', 'nech', 'applies', 'fighting', 'cushions', 'minerature', 'steamboat', 'concentration', 'squatting', 'flag', 'anciet', 'helmet', 'drain', 'breaching', 'pizzeria', 'juggler', 'gelled', 'lack', 'drawing', 'foreign', 'ways', 'barriers', 'serena', 'scarred', 'dunks', 'glassses', 'woodlands', 'stalks', 'punt', 'pyramid', 'retreived', 'bun', 'grss', 'tea', 'ruins', 'makeshift', 'ferris', 'upfront', 'snaps', 'romp', 'frolicking', 'cathcer', 'foraging', 'trundles', 'fabric', 'panelling', 'darkerskinned', 'sprinkled', 'slices', 'hulk', 'winner', 'newspapers', 'junglegym', 'minor', 'labs', 'greens', 'bearer', 'soil', 'angry', 'split', 'leap', 'saharan', 'serveral', 'aiming', 'obama', 'wrestling', 'gown', 'theme', 'super', 'you', 'swear', 'firends', 'extravagent', 'inch', 'focusing', 'forests', 'nurses', 'bushes', 'environment', 'fairground', 'sunflower', 'gutarist', 'client', 'fixtures', 'neon', 'davison', 'tatoos', 'shipping', 'capris', 'combat', 'steve', 'parasurfs', 'breaker', 'coliding', 'lemonade', 'lonely', 'hurdle', 'fleeing', 'knelt', 'blossom', 'satchel', 'heavyset', 'border', 'attached', 'rung', 'baseball', 'part', 'naked', 'onto', 'going', 'portrait', 'observing', 'bended', 'bursting', 'hug', 'midriff', 'sparklers', 'interestingly', 'kingsworth', 'bmw', 'supporter', 'screening', 'crawls', 'aggitates', 'striding', 'curiously', 'propeller', 'flipflops', 'close', 'halfsmile', 'taping', 'says', 'sprayed', 'drainage', 'male', 'venture', 'slouched', 'quad', 'impress', 'warmly', 'handles', 'arguing', 'torso', 'silverware', 'advance', 'pulled', 'depth', 'multiracial', 'recliner', 'conversation', 'surfboards', 'watched', 'treading', 'hobby', 'lamp', 'stiffing', 'spin', 'cabin', 'safety', 'donkeys', 'nipples', 'elf', 'turbaned', 'flurry', 'interested', 'boundary', 'flashlight', 'rim', 'in', 'speedo', 'yound', 'flyer', 'reflective', 'grabbing', 'herbs', 'closes', 'coffee', 'hoolahoops', 'wrestled', 'panting', 'skatepark', 'harmonica', 'physical', 'watch', 'customers', 'wedgie', 'traverse', 'hind', 'dc', 'door', 'hidden', 'three', 'paleontologist', 'topped', 'passerby', 'barren', 'longbeaked', 'handing', 'foldable', 'producing', 'nearby', 'bare', 'neat', 'carves', 'restrain', 'punches', 'explores', 'dove', 'slippery', 'pack', 'guarding', 'sibling', 'spill', 'raling', 'sparrow', 'production', 'donut', 'redbrown', 'goalkeeper', 'removing', 'developed', 'moonwalk', 'waterwings', 'flowercovered', 'ticket', 'deeps', 'coutryside', 'beams', 'charm', 'borader', 'easy', 'spectators', 'rally', 'chopsticks', 'japanese', 'camo', 'seek', 'excersizing', 'photographer', 'whit', 'parade', 'fton', 'defense', 'ad', 'biscuit', 'lecturer', 'highchair', 'surrounds', 'subaru', 'culprit', 'guide', 'treed', 'unner', 'rebound', 'middle', 'bill', 'frayed', 'colors', 'landmark', 'pans', 'workshop', 'dirtbed', 'tyedyed', 'matching', 'blond', 'shredding', 'reading', 'motorists', 'planks', 'noses', 'talks', 'jumpos', 'trophy', 'climbes', 'take', 'smokes', 'roofs', 'vinyl', 'pedals', 'poster', 'puddles', 'slope', 'cellphone', 'raked', 'hoofs', 'sparkling', 'bay', 'human', 'tourists', 'pieces', 'cement', 'patriotic', 'golfing', 'starts', 'bicycler', 'railings', 'alon', 'greencolored', 'the', 'outlines', 'discuss', 'bloody', 'creates', 'buffalo', 'stay', 'bulldogs', 'divind', 'indoors', 'ambulance', 'crudely', 'raced', 'aboveground', 'wipeout', 'accessories', 'surfaces', 'crochet', 'owner', 'pulley', 'flaring', 'curb', 'stroke', 'churning', 'uses', 'jagged', 'skids', 'blowup', 'five', 'transparent', 'hunter', 'cork', 'bohemians', 'arab', 'mexican', 'cliffs', 'poodles', 'vacation', 'highfives', 'handbag', 'thatch', 'facepaint', 'pencil', 'rails', 'numbered', 'passengers', 'candidate', 'collared', 'ferns', 'candy', 'sips', 'feels', 'purina', 'developing', 'chello', 'town', 'fighter', 'underneat', 'owl', 'kind', 'welcomes', 'barricade', 'picture', 'ejected', 'statute', 'ships', 'boulders', 'kilts', 'flea', 'first', 'pagent', 'hatchback', 'branch', 'visitors', 'no', 'crazily', 'wrinkled', 'adventurer', 'folks', 'antique', 'hauling', 'pillowcase', 'lake', 'refrigerator', 'catc', 'tournament', 'derssed', 'classes', 'statues', 'windowed', 'bubble', 'checks', 'easels', 'policeman', 'snowgear', 'nicely', 'teens', 'desk', 'oversized', 'lighted', 'lounge', 'counry', 'edges', 'begins', 'cheerleading', 'stores', 'multicolored', 'hamming', 'graffti', 'sister', 'dalmatian', 'st', 'wristbands', 'dueling', 'stifflyposed', 'wharfs', 'ballthrower', 'resting', 'linet', 'grove', 'anklehigh', 'floatation', 'reflected', 'supports', 'charged', 'scouts', 'cave', 'pulling', 'skijoring', 'cartwheels', 'shop', 'clowds', 'skiny', 'younger', 'steaks', 'prepared', 'mushroom', 'slowly', 'squad', 'noce', 'overhangs', 'lei', 'sleeveless', 'snowpatched', 'muffs', 'fell', 'looked', 'runway', 'maroon', 'bloodied', 'expanding', 'garb', 'powerful', 'escorted', 'engage', 'identical', 'almostdried', 'bit', 'dame', 'freesbies', 'wheelbarrow', 'minding', 'sync', 'skydiver', 'dramatic', 'gingerbread', 'tether', 'consumer', 'permed', 'conoe', 'plates', 'bleak', 'convienience', 'turnaround', 'collapsed', 'warily', 'grounded', 'spays', 'selling', 'along', 'try', 'rocket', 'zoo', 'rays', 'gesturing', 'priest', 'drawn', 'well', 'tugowar', 'route', 'wasteland', 'bug', 'timeout', 'steered', 'woooden', 'telegraph', 'readies', 'branches', 'participate', 'observer', 'squat', 'spelunker', 'seabird', 'passin', 'runners', 'backstroke', 'evade', 'ok', 'squirting', 'grassland', 'promotional', 'six', 'streetlights', 'foothills', 'fliers', 'tanning', 'vampires', 'utility', 'solitary', 'ther', 'tires', 'hitter', 'nation', 'shave', 'mitsubishi', 'dive', 'quiet', 'doorag', 'graffitiheavy', 'work', 'backpack', 'carying', 'wrecked', 'labrador', 'strand', 'glvoes', 'unmanned', 'art', 'longlegged', 'finished', 'highflying', 'cine', 'bumpy', 'surround', 'tipped', 'motorcyclists', 'bone', 'flat', 'headscarfs', 'fans', 'sweating', 'scrambling', 'breed', 'sari', 'osme', 'italian', 'scantilyclad', 'build', 'rotary', 'graduation', 'colorblock', 'popping', 'shepherds', 'many', 'trays', 'tractorlike', 'wade', 'dragged', 'romps', 'downward', 'scoring', 'acrobatic', 'jewish', 'note', 'paws', 'plastic', 'present', 'seattle', 'musher', 'holiday', 'dresser', 'bungeetype', 'global', 'trampled', 'asian', 'mouthguards', 'tool', 'rear', 'handed', 'drapped', 'midstride', 'locked', 'locker', 'egyptian', 'paraglider', 'sweatshirt', 'explosions', 'intertube', 'mirrored', 'lockers', 'mosaic', 'stabs', 'zips', 'primping', 'orangestained', 'giant', 'milkbone', 'prefabricated', 'dog', 'addressing', 'heroes', 'eat', 'perches', 'against', 'miles', 'skill', 'plays', 'rival', 'icicles', 'ropeswinging', 'extended', 'knees', 'retangular', 'vehicle', 'clergy', 'ancient', 'fiercely', 'heron', 'covered', 'drilling', 'clean', 'slippers', 'ourdoors', 'approachs', 'broad', 'agains', 'umbrellas', 'cube', 'targeting', 'fix', 'were', 'whild', 'roller', 'bales', 'skateboarder', 'crooswalk', 'res', 'folds', 'manequins', 'cloths', 'direct', 'itself', 'pure', 'bearing', 'pedigree', 'swimming', 'slanted', 'attaching', 'bikers', 'cosplay', 'mat', 'bicyclecross', 'weimeraners', 'flatscreen', 'urban', 'poof', 'bundle', 'possessively', 'second', 'bonnets', 'redwood', 'gliding', 'lab', 'biting', 'fuzzy', 'arcade', 'maids', 'recreation', 'ultimate', 'contained', 'bottle', 'visor', 'with', 'shoulderdeep', 'convert', 'swords', 'edge', 'youg', 'prepairing', 'vendors', 'patterened', 'tho', 'yerba', 'warehouse', 'convienance', 'dumbbell', 'navigate', 'safari', 'because', 'hippie', 'squeezed', 'nugent', 'midfield', 'horsedrawn', 'mine', 'ilks', 'presses', 'outs', 'walkway', 'boarded', 'smiled', 'trendy', 'slice', 'patroling', 'springer', 'brimmed', 'whie', 'mix', 'slide', 'lifted', 'finger', 'brighty', 'bathroom', 'serve', 'graphic', 'yong', 'changes', 'einstein', 'rivers', 'couples', 'ashy', 'shiny', 'icing', 'short', 'her', 'rodeo', 'proximity', 'multicoloured', 'scramble', 'superhero', 'banging', 'kite', 'pacifier', 'rockstrewn', 'oppsite', 'lasso', 'bowls', 'presentation', 'perked', 'mussels', 'swimsuites', 'wintergear', 'sword', 'gettnig', 'motorcyle', 'support', 'fed', 'filiming', 'protect', 'circled', 'tubular', 'moutain', 'samoyads', 'graffitied', 'baring', 'twelve', 'bedroom', 'determination', 'motocycle', 'raging', 'wilbert', 'paved', 'manmade', 'wings', 'trot', 'write', 'probably', 'steamy', 'started', 'noticable', 'loading', 'potato', 'rustic', 'stocky', 'toolbox', 'duck', 'counters', 'slam', 'replaced', 'microphone', 'persons', 'haired', 'greenbay', 'sewer', 'really', 'vinecovered', 'trashcan', 'glovedhand', 'portapotties', 'knife', 'troll', 'splatter', 'garden', 'sled', 'puck', 'let', 'curious', 'digital', 'step', 'sparks', 'hedge', 'brawl', 'seating', 'leader', 'pub', 'petals', 'robot', 'condoms', 'electrical', 'ban', 'graveyard', 'nosedeep', 'stunt', 'alleyway', 'signals', 'doorway', 'riverrafting', 'museum', 'scrolled', 'religious', 'crash', 'swim', 'devil', 'extinguishes', 'store', 'sport', 'kid', 'coated', 'widespread', 'swatted', 'thick', 'stays', 'various', 'gauntlet', 'dodging', 'weave', 'straggle', 'powerwashing', 'overlook', 'labradoodle', 'buried', 'panes', 'sparse', 'embracing', 'men', 'followed', 'extravagantlyhaired', 'subway', 'riwal', 'fiddle', 'teeing', 'electronic', 'chimes', 'lettuce', 'monitoring', 'waking', 'county', 'touch', 'calming', 'vision', 'jack', 'swoops', 'classical', 'hankerchief', 'encircling', 'brook', 'way', 'raining', 'robes', 'arrows', 'helment', 'currents', 'trekkies', 'worships', 'perm', 'attampts', 'campfire', 'blown', 'brindlecoated', 'euro', 'walkng', 'bats', 'robust', 'wheels', 'wiped', 'rubs', 'distored', 'hummingbird', 'operated', 'marine', 'stick', 'ponchos', 'landfill', 'yellow', 'meeting', 'macintosh', 'grimaces', 'classroom', 'supporters', 'looking', 'inverted', 'pouting', 'dominance', 'pugs', 'lot', 'schoolgirls', 'juggle', 'drips', 'officer', 'smile', 'spits', 'christmastime', 'grins', 'equipment', 'mossy', 'rollerskates', 'irish', 'placid', 'swept', 'forward', 'blackstriped', 'shielding', 'position', 'rosy', 'sees', 'scared', 'carry', 'pilot', 'monocolor', 'rounding', 'friend', 'muzzled', 'squirt', 'piercings', 'restaraunt', 'neckdeep', 'facepaintings', 'enthusiasts', 'blondeheaded', 'exotic', 'militarystyle', 'toddlers', 'outcrop', 'pursed', 'corkscrew', 'grinds', 'surfboarding', 'directions', 'everybody', 'reflecting', 'shadow', 'still', 'samples', 'rasing', 'ahead', 'peeing', 'willow', 'strollers', 'element', 'swordfighting', 'cooking', 'crosswalks', 'pathway', 'tools', 'playgym', 'damp', 'fives', 'wrings', 'clearing', 'baseman', 'duke', 'scattered', 'downpour', 'childing', 'practice', 'body', 'snowshovel', 'snub', 'rafters', 'entry', 'passes', 'confused', 'boatful', 'scrubbing', 'walking', 'flotation', 'mill', 'skimming', 'dresses', 'accompanied', 'mature', 'judges', 'swimmies', 'literature', 'ones', 'posh', 'readying', 'wed', 'sunbathe', 'mucky', 'fairway', 'pooh', 'bouncer', 'styled', 'stumps', 'tennis', 'admired', 'headphone', 'settings', 'blocking', 'bullfighter', 'hoodie', 'goth', 'chief', 're', 'variety', 'fuchsia', 'treecovered', 'dine', 'turn', 'more', 'flows', 'recoils', 'bleachers', 'steeple', 'logos', 'midjump', 'strawberry', 'perfom', 'schoolaged', 'wizards', 'protest', 'canyon', 'beige', 'siren', 'brickwall', 'heels', 'exhaust', 'traditional', 'tired', 'excited', 'griding', 'spotlight', 'ox', 'wigs', 'shown', 'showgirl', 'crumb', 'applying', 'hypocrites', 'deposited', 'dragging', 'opposition', 'goal', 'spreading', 'partying', 'treck', 'archways', 'lay', 'bookcase', 'smell', 'bullet', 'activity', 'tball', 'fisheye', 'based', 'poles', 'limb', 'approaches', 'scrubby', 'neatly', 'shortsleeved', 'breeze', 'rural', 'lazily', 'artifacts', 'classicstyle', 'gambling', 'peddal', 'radio', 'ropes', 'hiking', 'disheveled', 'dear', 'vault', 'instrument', 'fiveteen', 'cowboy', 'takedown', 'scubba', 'vista', 'blackyellow', 'snowbanks', 'disguises', 'vaste', 'almost', 'earring', 'treetops', 'accented', 'stretches', 'tentlike', 'paraskier', 'headcover', 'whipping', 'hooked', 'jeep', 'belays', 'dealing', 'enthusiastically', 'saddled', 'juggling', 'fries', 'wristband', 'filled', 'mottled', 'kneeling', 'twho', 'jaw', 'fields', 'spot', 'bits', 'burning', 'ran', 'dojo', 'practising', 'candles', 'given', 'cowlike', 'attempting', 'jackets', 'biscut', 'curve', 'comfort', 'pouncing', 'playful', 'graffitistrewn', 'sashes', 'closer', 'eluding', 'wire', 'unpainted', 'jaket', 'feathery', 'pay', 'ornate', 'amused', 'patchy', 'unseen', 'sunshade', 'space', 'passenger', 'lies', 'headfirst', 'huddled', 'it', 'barefooted', 'slipper', 'coarse', 'apartment', 'allow', 'foreheads', 'eggs', 'guarded', 'underneath', 'brindle', 'xmen', 'descend', 'comic', 'jog', 'keeling', 'jaywalk', 'prisoner', 'cigar', 'fumble', 'room', 'threshold', 'draped', 'swine', 'boa', 'skate', 'wrestler', 'dripping', 'sponsor', 'grazing', 'beside', 'howls', 'change', 'palmtree', 'gazebo', 'roll', 'sites', 'coasting', 'slicker', 'brooms', 'ripping', 'hoodoos', 'metal', 'teeter', 'mask', 'slighty', 'spaghetti', 'table', 'furry', 'nipple', 'stack', 'stare', 'mobile', 'accompanies', 'upperclass', 'choke', 'winters', 'ill', 'cutoff', 'cello', 'bike', 'multistory', 'item', 'zipline', 'paintings', 'aims', 'rocking', 'sponsorship', 'canes', 'rabbits', 'fishscales', 'shriner', 'upclose', 'carjack', 'stages', 'polkadot', 'plywood', 'windsurfs', 'footpath', 'images', 'coasterlike', 'proudly', 'litlle', 'figures', 'weaving', 'conoes', 'haloween', 'bring', 'cans', 'since', 'bonfire', 'loan', 'prestends', 'prison', 'riverwater', 'measures', 'donuts', 'sneakers', 'typical', 'camels', 'rungs', 'matador', 'sleigh', 'skipping', 'lock', 'that', 'underside', 'biohazard', 'ethnic', 'swimcap', 'humansize', 'orange', 'partly', 'ladie', 'love', 'sprinting', 'overcoat', 'climbing', 'plungles', 'squirted', 'berries', 'rickety', 'garner', 'pavement', 'females', 'hudge', 'rushes', 'lots', 'sledders', 'retrieved', 'canvasses', 'scenery', 'living', 'snowed', 'videos', 'drenched', 'west', 'cheerfully', 'expressway', 'punk', 'decorate', 'angerly', 'casket', 'square', 'dealth', 'whom', 'bush', 'budweisersponsored', 'low', 'videotapes', 'quilt', 'introduces', 'reenactors', 'climbed', 'fend', 'strings', 'drinks', 'sunset', 'lifevest', 'stingray', 'exited', 'pajamas', 'snowman', 'tongee', 'grows', 'dinghy', 'samsung', 'verbal', 'disgusted', 'tumbles', 'curving', 'meadow', 'aerobics', 'praying', 'else', 'zig', 'blindfolds', 'again', 'washes', 'zagging', 'ion', 'kelp', 'married', 'drags', 'himself', 'ducky', 'clause', 'salvar', 'earpiece', 'moving', 'competiting', 'chats', 'hp', 'yellows', 'nutcracker', 'cookies', 'farm', 'boots', 'indicating', 'storm', 'ledges', 'development', 'pastry', 'gates', 'celebrities', 'ridable', 'accordion', 'refuse', 'butter', 'photographing', 'midday', 'motorcycling', 'opening', 'poofy', 'expansive', 'paneled', 'floaters', 'streched', 'paralell', 'towed', 'aid', 'pigtails', 'gesture', 'style', 'shapes', 'hippies', 'grate', 'smells', 'sundress', 'travel', 'romantic', 'puffy', 'untangles', 'jewlery', 'stadning', 'front', 'killer', 'broken', 'formal', 'shortly', 'slightly', 'medals', 'roadway', 'dobbermen', 'headdress', 'woods', 'caravan', 'mr', 'european', 'marking', 'vase', 'vegetable', 'meditating', 'ovals', 'year', 'manicured', 'entangled', 'columned', 'floral', 'touchline', 'floating', 'near', 'junk', 'gauzey', 'berry', 'patricks', 'nonworking', 'springs', 'vessel', 'cameraman', 'challenge', 'rolled', 'holding', 'guard', 'spar', 'pulls', 'fiels', 'grip', 'dish', 'collection', 'manner', 'docking', 'cape', 'dump', 'kiss', 'carriage', 'leafy', 'granite', 'employees', 'carousel', 'marsh', 'stuntman', 'paraglide', 'shabby', 'watermelon', 'offf', 'guards', 'ping', 'highschool', 'out', 'fourwheeler', 'exchanges', 'wooded', 'fan', 'bulging', 'squabble', 'decorations', 'defend', 'swirling', 'continue', 'reviews', 'hose', 'vertical', 'zippered', 'professional', 'buggys', 'caucasian', 'purple', 'safely', 'redhaired', 'floaties', 'skates', 'housekeeping', 'twirls', 'unzipping', 'skilift', 'smiling', 'pistol', 'totter', 'church', 'mexico', 'tossing', 'extinguish', 'splashes', 'chrismas', 'chestnut', 'sunlight', 'treks', 'cupcake', 'cameraphone', 'tumbling', 'rode', 'floppy', 'homeless', 'panties', 'formallydressed', 'hillside', 'windboarder', 'speedway', 'spikes', 'rafting', 'smoked', 'stacks', 'piles', 'maneuvering', 'undershirt', 'jogger', 'places', 'midflight', 'tomatos', 'temporary', 'above', 'weights', 'thinner', 'underpass', 'toward', 'lemons', 'cautiously', 'mole', 'papers', 'alongside', 'middleaged', 'we', 'florescent', 'viz', 'scary', 'friends', 'lunch', 'bucked', 'emblazoned', 'singer', 'barking', 'grocery', 'soccer', 'sillhouttes', 'softball', 'plows', 'aluminum', 'stonesign', 'shrowded', 'flatbed', 'redcarpeted', 'guitar', 'cracked', 'grayhound', 'ls', 'spoon', 'buoy', 'cats', 'skimply', 'crevice', 'opponent', 'parachutist', 'exhibit', 'trim', 'ring', 'kissed', 'drainpipe', 'van', 'amoung', 'pitbulls', 'pursues', 'dock', 'pit', 'mani', 'collecting', 'snuggles', 'wetsuit', 'rights', 'gren', 'carnival', 'together', 'maneuvers', 'pipeline', 'brunettes', 'course', 'darkskinned', 'batman', 'exposing', 'quarter', 'sprinkers', 'worshipping', 'wear', 'rangler', 'prarie', 'backflips', 'belongings', 'suspenders', 'pelicans', 'spaniel', 'exception', 'clack', 'lesson', 'cowgirls', 'seagulls', 'eyed', 'pizza', 'yamaha', 'domed', 'jean', 'trunk', 'bad', 'droplets', 'videotaped', 'may', 'east', 'atop', 'planeta', 'chandelier', 'engine', 'croquet', 'park', 'crescent', 'pompadour', 'buses', 'defends', 'diapers', 'whiel', 'jousting', 'maker', 'down', 'routine', 'doorstep', 'pitbull', 'triangle', 'streaming', 'remaining', 'racks', 'arm', 'batsman', 'terrier', 'flaps', 'ashtray', 'bulldozer', 'quintet', 'period', 'reindeer', 'accents', 'spashes', 'nubby', 'circus', 'rimmed', 'bungee', 'terriers', 'deflated', 'freestyle', 'sheppard', 'examine', 'hospital', 'tanktops', 'gators', 'speedskater', 'brown', 'lane', 'pillowfight', 'sundappled', 'bowlike', 'lacross', 'state', 'bakery', 'boxing', 'launched', 'marble', 'hundreds', 'entering', 'coping', 'tickled', 'unexcited', 'hazmat', 'partition', 'bitten', 'shaving', 'overtop', 'straps', 'aboriginal', 'vocabulary', 'struggle', 'tree', 'pinkish', 'seater', 'vents', 'protester', 'drummer', 'elbow', 'starshaped', 'king', 'somersaulting', 'scowling', 'trumpet', 'patches', 'slat', 'illustration', 'obstacles', 'fiery', 'suggestively', 'dancing', 'folded', 'drive', 'brownishorange', 'boxy', 'graffitti', 'darked', 'facing', 'loooking', 'sliding', 'uncut', 'attempted', 'yorkshire', 'life', 'relaxes', 'mustard', 'rice', 'training', 'anime', 'shots', 'nametags', 'causing', 'add', 'scuffle', 'twos', 'bookshelves', 'stiped', 'interviews', 'somebody', 'prepare', 'clever', 'engaging', 'turf', 'acts', 'melting', 'archway', 'astro', 'oppenents', 'ears', 'hook', 'protected', 'cocacola', 'wal', 'shines', 'comforts', 'sooner', 'discs', 'sportwoman', 'oxen', 'strapless', 'skier', 'lime', 'underground', 'sailor', 'wax', 'adobe', 'feeds', 'reaches', 'perfomed', 'yarnlike', 'sheilding', 'raised', 'prances', 'ladle', 'sea', 'hods', 'dumpster', 'arches', 'mets', 'to', 'christmas', 'inscribed', 'bathing', 'attractive', 'cavort', 'galloping', 'ump', 'beckham', 'overall', 'hides', 'drills', 'cliffside', 'stepped', 'cracker', 'queens', 'ignoring', 'sleddog', 'spitting', 'bases', 'googles', 'cosplayers', 'scope', 'puma', 'fairies', 'madly', 'investigates', 'granny', 'straining', 'takes', 'replaces', 'dropped', 'chaps', 'mirror', 'peace', 'bowed', 'camcorder', 'fadora', 'make', 'tattoed', 'choice', 'attention', 'sipping', 'tricks', 'wave', 'chewedup', 'hoists', 'teeth', 'sick', 'scratch', 'tobaggan', 'guidewire', 'woolen', 'asia', 'brownandwhite', 'leaping', 'numeral', 'polkadotted', 'policemen', 'flip', 'soda', 'bib', 'halter', 'shit', 'officers', 'ladys', 'chewed', 'win', 'drums', 'demonstrating', 'tour', 'crowd', 'kildare', 'canopy', 'retaining', 'waterski', 'awaiting', 'monkeys', 'swung', 'od', 'flowerbed', 'clapped', 'aligator', 'frosty', 'breakdances', 'showroom', 'pastures', 'camel', 'kill', 'wisconsin', 'obsured', 'backpacker', 'cover', 'aquacolored', 'whitecolored', 'cloudcovered', 'videotaping', 'pee', 'kawasaki', 'brownstone', 'tissue', 'noy', 'steel', 'unknown', 'pring', 'staring', 'gazes', 'horizontal', 'snowbound', 'structure', 'waring', 'sequoia', 'victory', 'preparation', 'doughnut', 'twirling', 'reson', 'hurricanes', 'colourfully', 'railling', 'girl', 'kneehigh', 'cane', 'scowls', 'bolts', 'jib', 'dandelion', 'hear', 'whips', 'balcony', 'fronr', 'greeting', 'aimed', 'bonnet', 'fortess', 'bite', 'faith', 'mermaid', 'cones', 'peoples', 'astroturf', 'allwhite', 'handicapped', 'anatomy', 'guardrail', 'schoolgirl', 'remote', 'iceburg', 'midrun', 'solicits', 'jug', 'less', 'garments', 'toss', 'spoted', 'snowmobiler', 'caps', 'teddy', 'flexable', 'swimmer', 'pokemon', 'police', 'greenish', 'bath', 'chat', 'mosque', 'terminal', 'animal', 'olympics', 'rollerskating', 'surrounded', 'braids', 'eyeglasses', 'aggressive', 'aloft', 'wraps', 'hump', 'driving', 'pillared', 'playtoy', 'plats', 'metro', 'skirt', 'paraphernalia', 'different', 'midway', 'waded', 'grasslands', 'rollerskate', 'prizes', 'snakeskin', 'crevasse', 'fundraising', 'chairs', 'retrieving', 'crosswalk', 'firefighters', 'glass', 'midair', 'tape', 'dart', 'ignore', 'firemen', 'forearms', 'busines', 'thrust', 'filling', 'decoration', 'patch', 'hockey', 'occured', 'worked', 'firecracker', 'german', 'rings', 'stuck', 'brick', 'rottwieler', 'playy', 'chef', 'technical', 'queue', 'surfboard', 'supplies', 'magenta', 'upraised', 'snowfield', 'speckled', 'seaside', 'multipiercings', 'neckless', 'prize', 'truck', 'glasses', 'surfs', 'suited', 'kitten', 'groom', 'monster', 'cruiser', 'time', 'topples', 'steers', 'baked', 'teases', 'knight', 'bellbottoms', 'anchored', 'restaurants', 'offroad', 'waving', 'blankets', 'uplifted', 'aquestrian', 'neoncolored', 'mock', 'pitches', 'intricate', 'youth', 'toddler', 'plan', 'elderly', 'kicking', 'glancing', 'captures', 'intercept', 'containig', 'custom', 'backset', 'shack', 'ever', 'shoot', 'coconut', 'night', 'powered', 'colored', 'focused', 'fraternal', 'cleans', 'couple', 'current', 'digs', 'procession', 'skying', 'foreigners', 'great', 'hissing', 'leotards', 'indians', 'underwear', 'uggs', 'openair', 'serves', 'stocking', 'leading', 'violinist', 'disrupt', 'admire', 'scores', 'carries', 'blur', 'donations', 'carpeted', 'diving', 'butterflycatcher', 'mansion', 'lagging', 'gets', 'lounging', 'flops', 'gi', 'nervous', 'next', 'indian', 'half', 'skidded', 'throught', 'handheld', 'restroom', 'churns', 'woody', 'bowing', 'athletics', 'varying', 'total', 'launch', 'figure', 'match', 'devices', 'students', 'fold', 'shoulder', 'assisting', 'slab', 'investigate', 'climbs', 'cluster', 'fingertips', 'ash', 'walkers', 'avoiding', 'overlooked', 'shape', 'guiutarist', 'teeshirt', 'snowy', 'chihuahua', 'cruisship', 'train', 'flamboyantly', 'tbar', 'littered', 'tune', 'play', 'interior', 'preparing', 'display', 'exterior', 'blacktop', 'tambourines', 'spectate', 'gorgeous', 'hangs', 'bustling', 'glares', 'menu', 'contemporary', 'toes', 'whales', 'building', 'cascades', 'hauled', 'swooping', 'styrofoam', 'birthday', 'muti', 'stars', 'vibrating', 'sending', 'ti', 'tiretracks', 'packers', 'amplifier', 'flowering', 'braided', 'signing', 'nude', 'cheered', 'limousine', 'ten', 'bared', 'flowered', 'coyotes', 'kakhi', 'draws', 'pine', 'hsirt', 'eyes', 'vampire', 'threw', 'punching', 'base', 'peeking', 'washer', 'greenglow', 'midsections', 'decoyanimal', 'wetsuite', 'flown', 'sand', 'women', 'toe', 'staffordshire', 'bodyboarder', 'teammate', 'acoustic', 'neckties', 'basketball', 'hill', 'mountainous', 'prop', 'tireswing', 'kicker', 'yachts', 'newborn', 'wards', 'chocolate', 'jogs', 'how', 'sombody', 'secret', 'profession', 'goldfish', 'splash', 'buddist', 'piled', 'leans', 'denim', 'knotted', 'heather', 'barettes', 'barrel', 'trudge', 'jeeps', 'tire', 'flames', 'gentlemen', 'washington', 'turbans', 'masters', 'mark', 'rattan', 'ribbons', 'gifts', 'practices', 'handbags', 'elegant', 'overwhelmed', 'sox', 'cat', 'cots', 'reported', 'foal', 'hello', 'milkweed', 'cardigan', 'wrangle', 'like', 'talent', 'sportsfield', 'ballerina', 'slip', 'flippers', 'cafe', 'cloud', 'hers', 'upright', 'persue', 'swimsuits', 'reds', 'hike', 'fitness', 'ascending', 'splattered', 'wheelers', 'hardwood', 'crafts', 'cemetery', 'violently', 'audience', 'or', 'drag', 'soles', 'soldier', 'billowing', 'barb', 'slush', 'electricity', 'bedspread', 'conditions', 'jetskis', 'noodles', 'twigs', 'andy', 'slacks', 'towel', 'creature', 'text', 'longhandled', 'seeingeye', 'wakeboarders', 'fellow', 'waterspout', 'pole', 'bison', 'screened', 'sucking', 'mats', 'manager', 'lean', 'backside', 'tries', 'furniture', 'vuitton', 'shirt', 'gothically', 'expression', 'trick', 'flyfishing', 'entertain', 'clings', 'jar', 'coast', 'beachgoers', 'push', 'blanket', 'entangles', 'hop', 'bowled', 'boxes', 'swans', 'saber', 'gull', 'purchased', 'recline', 'eldery', 'oregon', 'paw', 'backhand', 'guitarist', 'shoes', 'kidsized', 'palace', 'dives', 'zaftig', 'wiht', 'heating', 'apartments', 'palestinian', 'rapels', 'ratty', 'caramel', 'provocative', 'nearly', 'coyote', 'gathers', 'implements', 'mattress', 'toy', 'dollar', 'keffiyahs', 'earphones', 'possession', 'virtual', 'tigger', 'disney', 'bank', 'liquid', 'focus', 'perhaps', 'fribee', 'taking', 'coal', 'sifting', 'get', 'giants', 'glowing', 'blossoming', 'upsidedown', 'public', 'plushie', 'happy', 'crouched', 'daft', 'adjusting', 'snowstorm', 'lobby', 'tame', 'ankle', 'swimsuit', 'jumpropes', 'sandy', 'towards', 'rummages', 'rigging', 'yougn', 'runner', 'flings', 'shin', 'begging', 'clothed', 'joins', 'competitor', 'soccor', 'prow', 'baggage', 'our', 'reveals', 'gatorade', 'enter', 'struggling', 'utilities', 'grimmaces', 'tourist', 'barefoot', 'pokes', 'designed', 'laugh', 'eyebrow', 'track', 'final', 'sparkler', 'squeeze', 'toboggan', 'paddles', 'nongrassy', 'wakeboarder', 'glassess', 'beachfront', 'thck', 'glacier', 'small', 'scale', 'ruin', 'feel', 'stares', 'chinese', 'file', 'remove', 'attend', 'stacked', 'stoppie', 'leafs', 'puff', 'streams', 'facefirst', 'gazed', 'strewn', 'allowed', 'piano', 'story', 'natural', 'drab', 'fishing', 'coached', 'handrail', 'captured', 'labeled', 'turns', 'outcroping', 'breeds', 'peach', 'spelunkers', 'learning', 'fellows', 'shadowed', 'badminton', 'twig', 'stroll', 'multicultural', 'trails', 'parkinglot', 'erupts', 'guessing', 'slides', 'minivan', 'gardening', 'london', 'bounce', 'shaft', 'lease', 'ramp', 'eight', 'skewers', 'funeral', 'dining', 'false', 'feild', 'doors', 'aerial', 'fashionably', 'works', 'ollie', 'anticipating', 'flop', 'grazes', 'infant', 'gun', 'stone', 'protesting', 'open', 'guests', 'joyful', 'harly', 'plane', 'region', 'helments', 'suntanning', 'heavymetal', 'burst', 'dong', 'smear', 'india', 'doing', 'couch', 'awnings', 'singing', 'burgers', 'grouchy', 'climbers', 'saroog', 'plaza', 'stringless', 'forms', 'buildings', 'shoulders', 'book', 'redhead', 'trash', 'view', 'operate', 'australian', 'early', 'establishment', 'map', 'angled', 'parasurfer', 'glide', 'struck', 'babies', 'impeach', 'widelegged', 'receiving', 'look', 'hikers', 'rubbing', 'tug', 'layup', 'sheltie', 'seagull', 'rippled', 'dominant', 'guys', 'into', 'grapple', 'lillypads', 'attach', 'silky', 'kennel', 'ladder', 'spotted', 'spinart', 'alligator', 'sisters', 'international', 'bringing', 'competitors', 'bro', 'shields', 'worm', 'checking', 'brwon', 'jogging', 'needs', 'donates', 'sillouhette', 'africanamericans', 'eagerly', 'overshadowed', 'twenties', 'dangles', 'burns', 'chainmail', 'mesh', 'adjusts', 'travels', 'tank', 'belted', 'dots', 'print', 'shamrocks', 'swipes', 'annoyed', 'welcome', 'santa', 'autumn', 'brass', 'allterrain', 'sprints', 'condominium', 'crack', 'pots', 'lifevests', 'heritage', 'letters', 'tophats', 'emerged', 'product', 'poking', 'twisty', 'goalies', 'all', 'casque', 'advances', 'directory', 'stoney', 'tray', 'tattooed', 'eroded', 'pitted', 'nip', 'blasted', 'racer', 'stop', 'fishemen', 'parrot', 'adults', 'sweatshirts', 'goucho', 'defended', 'boston', 'odd', 'dye', 'poolside', 'seaworld', 'aqua', 'sheer', 'podium', 'kiddy', 'frosting', 'font', 'marina', 'end', 'wallride', 'spash', 'excess', 'telephot', 'yard', 'bloe', 'clasp', 'eastern', 'cellphones', 'swishing', 'pets', 'greenpeace', 'arc', 'nears', 'swirl', 'mama', 'watches', 'jogged', 'sling', 'barbed', 'puppy', 'rounds', 'good', 'kept', 'oars', 'sat', 'woodstacked', 'bright', 'noisemaker', 'pong', 'dumped', 'large', 'law', 'wagon', 'looling', 'rolling', 'tables', 'hacking', 'litttle', 'ouside', 'sombrero', 'glowers', 'threewheeled', 'pile', 'others', 'bannister', 'planked', 'hamburgers', 'chinatown', 'frisbee', 'stumbling', 'cub', 'bellysurfing', 'turned', 'posters', 'broach', 'spokesmodels', 'card', 'posign', 'gnome', 'brightlycolred', 'calico', 'flirts', 'crawl', 'greyishbrown', 'otherwise', 'approaching', 'waterspouts', 'explorer', 'carton', 'cathedral', 'kimono', 'disguise', 'rides', 'tie', 'grafitti', 'amphitheater', 'participates', 'sour', 'scarf', 'flies', 'shrine', 'amish', 'basset', 'hr', 'handrailing', 'closed', 'alone', 'crest', 'done', 'medium', 'schools', 'missed', 'boarding', 'pleadingly', 'landform', 'hide', 'downwards', 'excersise', 'patrons', 'mission', 'widebrimmed', 'beg', 'inspecting', 'foil', 'trains', 'flying', 'booth', 'child', 'weight', 'dirtbike', 'built', 'keepaway', 'accident', 'matt', 'local', 'incense', 'swinging', 'clips', 'shawl', 'mingle', 'bmx', 'completes', 'walker', 'mantle', 'black', 'overturn', 'poorlylit', 'saxaphones', 'nat', 'grappling', 'teach', 'genetic', 'hangglider', 'blows', 'dodges', 'windshield', 'skateboards', 'pajama', 'shiner', 'pyramidshaped', 'shaved', 'floors', 'escalator', 'samll', 'convoy', 'motorbike', 'respectively', 'washing', 'steal', 'signs', 'obstacle', 'bullrider', 'swings', 'cows', 'thre', 'treated', 'doll', 'striped', 'themselves', 'straddling', 'wheel', 'bathrobe', 'circular', 'statefarmcom', 'directed', 'dangerous', 'rainbow', 'individuals', 'pincer', 'handgun', 'clears', 'stools', 'disturbed', 'passifier', 'withered', 'shell', 'mold', 'togerther', 'thinking', 'wheelie', 'computers', 'dalmatians', 'simultaneously', 'sucker', 'fast', 'being', 'gradual', 'peddles', 'stripes', 'crank', 'leg', 'walked', 'universal', 'length', 'computer', 'pain', 'saw', 'bikini', 'huskies', 'concentrates', 'exposure', 'ducks', 'colliding', 'creamy', 'mascot', 'officials', 'menus', 'containers', 'dense', 'skateboarders', 'overnight', 'hurrying', 'flung', 'biking', 'steering', 'shorts', 'wife', 'carpet', 'zooming', 'salmon', 'volleyball', 'ghost', 'stonefilled', 'pomeranian', 'scampers', 'israeli', 'painters', 'allmale', 'ruined', 'pepco', 'rollerblade', 'using', 'smoky', 'cloak', 'sidwalk', 'hovered', 'occupied', 'waterful', 'fetches', 'rocks', 'tunnel', 'cubby', 'suit', 'gold', 'theater', 'fur', 'notebook', 'atm', 'parachute', 'pointing', 'sandals', 'marathon', 'beginning', 'lighthouse', 'helemt', 'handicap', 'stepping', 'shivering', 'admires', 'formation', 'fleece', 'spilled', 'lookalike', 'billboard', 'pf', 'dumpsters', 'steep', 'supervising', 'bodyboard', 'astride', 'brow', 'overpass', 'uw', 'razzling', 'comfortable', 'insect', 'fancy', 'moped', 'bra', 'seas', 'wharf', 'backlit', 'patio', 'cam', 'cotton', 'video', 'tonge', 'lounges', 'crosses', 'tge', 'streetlamp', 'old', 'geyser', 'quarterback', 'magic', 'associated', 'healthy', 'chases', 'kangaroo', 'misspelled', 'rates', 'anything', 'needlepoint', 'shoppers', 'crooked', 'pushup', 'outside', 'dane', 'rottweiler', 'side', 'mad', 'silohuetted', 'oar', 'fitls', 'someone', 'chiseling', 'ledge', 'buddhists', 'limegreen', 'zombie', 'dyed', 'arrangement', 'leatherclad', 'cloverfilled', 'astonishment', 'around', 'placemats', 'key', 'thank', 'smiff', 'third', 'windboard', 'skull', 'witnesses', 'rain', 'give', 'fawkes', 'spouts', 'masses', 'zepra', 'figurine', 'unicycle', 'evident', 'assist', 'pebbly', 'texas', 'overhead', 'kneeled', 'flood', 'embrace', 'snows', 'wielding', 'holey', 'quarterpipe', 'puffs', 'jerseys', 'outise', 'roasted', 'suffering', 'mic', 'ripstik', 'fowl', 'pinches', 'crosslegged', 'columns', 'drooling', 'stoops', 'blueeyed', 'aboard', 'dance', 'opinion', 'manuever', 'mini', 'jailbird', 'infants', 'demonstrates', 'cone', 'clothing', 'garage', 'coordinator', 'tracksuit', 'burnt', 'acrouss', 'fronds', 'corn', 'mannequin', 'energy', 'slumped', 'overflowing', 'cycler', 'snare', 'nuzzling', 'model', 'hate', 'higher', 'pirate', 'hanglider', 'biek', 'piggyback', 'grainy', 'had', 'fetch', 'shirtless', 'vw', 'opens', 'horizon', 'word', 'cute', 'bicyclist', 'boxer', 'just', 'shovels', 'ally', 'bucket', 'elevator', 'tychy', 'easel', 'barrels', 'government', 'advertisements', 'murals', 'bluejean', 'apple', 'pristine', 'jetskiing', 'buttondown', 'scrap', 'supported', 'brightcolored', 'binocular', 'consumed', 'atrium', 'parachutes', 'signer', 'sprinkler', 'skaters', 'gateway', 'nash', 'stuffed', 'sporting', 'boarders', 'involving', 'orangehooded', 'seeking', 'quinta', 'photographed', 'divided', 'hay', 'produces', 'frisbees', 'slinging', 'nowhere', 'pharmacy', 'hills', 'snout', 'milk', 'situated', 'most', 'comforter', 'odeon', 'nitro', 'arizona', 'lizards', 'tricolored', 'aerobatics', 'lavendar', 'stirring', 'giving', 'feature', 'pants', 'union', 'design', 'blower', 'vapour', 'izod', 'orangeclad', 'skyline', 'wooden', 'batter', 'begs', 'canada', 'see', 'badges', 'faint', 'panasonic', 'leaped', 'masonry', 'lavender', 'unspooled', 'snowmobiling', 'surfing', 'someplace', 'alotment', 'gigantic', 'tone', 'turkeys', 'raincoats', 'comprised', 'arranging', 'bananas', 'maracas', 'elephants', 'pitcher', 'rolls', 'winking', 'pillar', 'lanterns', 'gover', 'moutainside', 'wind', 'diners', 'tones', 'bicyler', 'minnie', 'secluded', 'british', 'by', 'texting', 'russell', 'investigating', 'poem', 'tractor', 'upwards', 'experimenter', 'medatative', 'wintry', 'jackolantern', 'water', 'backyard', 'companion', 'falling', 'stage', 'occasion', 'coat', 'pane', 'wipes', 'accompanying', 'inlineskates', 'speech', 'stood', 'beanches', 'advertisement', 'apex', 'chi', 'menacingly', 'performers', 'sticks', 'plain', 'dragsters', 'wine', 'nose', 'things', 'speeding', 'identification', 'blow', 'advantage', 'jersy', 'levels', 'keeping', 'seperated', 'case', 'pasts', 'spain', 'ladles', 'jomps', 'flashing', 'snowing', 'tartan', 'kneepads', 'checker', 'cartoon', 'coaches', 'brides', 'tussling', 'picking', 'longdistance', 'somthing', 'basement', 'vert', 'tackle', 'tricycles', 'rowers', 'blackandwhite', 'while', 'crocodile', 'recieving', 'crocs', 'hoop', 'seedoo', 'pausing', 'tends', 'lagoon', 'boy', 'propping', 'kickflip', 'football', 'cruise', 'dogs', 'customer', 'fishermen', 'butts', 'dot', 'retrieves', 'chains', 'elder', 'performer', 'marks', 'performed', 'yet', 'wakeboards', 'language', 'gocart', 'somersault', 'twisting', 'chews', 'conversing', 'makeup', 'chunk', 'whistle', 'booths', 'maps', 'thread', 'regularly', 'chalk', 'incline', 'strainer', 'sailing', 'merrygoround', 'marker', 'gnawing', 'treeless', 'neclace', 'dummy', 'tumble', 'grab', 'attrative', 'lush', 'lassos', 'smilely', 'busy', 'ipod', 'wicker', 'leggings', 'crewmen', 'balancing', 'gymnastic', 'varied', 'keep', 'dimly', 'smacks', 'weird', 'personal', 'bullfight', 'ceremony', 'eyeshadow', 'displays', 'abandon', 'longboarder', 'cutouts', 'expanse', 'web', 'pitchers', 'messy', 'someones', 'lingers', 'chips', 'binky', 'rustric', 'sportswear', 'cutting', 'choir', 'poodle', 'headresses', 'furocious', 'angle', 'game', 'dimond', 'headless', 'netted', 'attire', 'segway', 'pups', 'under', 'wrestilng', 'overhear', 'strung', 'disk', 'restaurant', 'distribute', 'retrive', 'burka', 'rowboat', 'unoccupied', 'horned', 'organization', 'climber', 'dial', 'spiral', 'girls', 'standind', 'containing', 'unison', 'following', 'lifts', 'horseshoes', 'duffel', 'sleep', 'humping', 'jostles', 'accepting', 'midsized', 'festive', 'wands', 'musician', 'plenty', 'halfnaked', 'whiffle', 'rockclimb', 'walkman', 'windbreaker', 'though', 'jet', 'twopiece', 'trainer', 'palying', 'ethnicity', 'extravagant', 'crouches', 'headress', 'pensive', 'bounced', 'homebase', 'during', 'tupperware', 'shovel', 'greyish', 'groucho', 'commuters', 'reacts', 'inground', 'excitement', 'organizing', 'somehow', 'backpacking', 'ragged', 'burn', 'playground', 'oriential', 'grilling', 'corndogs', 'roof', 'rose', 'tucking', 'warm', 'busying', 'competes', 'elevated', 'peaks', 'grin', 'past', 'sidewalk', 'whacking', 'crucifixion', 'america', 'spotting', 'buggy', 'performs', 'magizine', 'involved', 'outward', 'velvet', 'buries', 'backgrounds', 'holes', 'blindfolded', 'shepherd', 'center', 'weeds', 'tucked', 'scare', 'em', 'offstage', 'clinging', 'driven', 'draft', 'drug', 'was', 'turtle', 'gurnee', 'contestants', 'du', 'racetrack', 'biden', 'strokes', 'reflections', 'digger', 'nudges', 'differentcolored', 'act', 'slalom', 'liking', 'advertizing', 'inside', 'shrubs', 'rise', 'innertubes', 'wrist', 'flinging', 'leaps', 'photos', 'sprawls', 'smashed', 'fountains', 'tangled', 'mushrooms', 'fireplug', 'determined', 'wood', 'cacti', 'soup', 'atv', 'barn', 'ferry', 'wrecks', 'items', 'dj', 'taxis', 'potrait', 'dig', 'campaign', 'directs', 'crampons', 'zombies', 'wearing', 'chased', 'kinds', 'played', 'tents', 'angels', 'sacks', 'nothing', 'warning', 'ibeam', 'conifers', 'zipping', 'boulder', 'riding', 'parasurfing', 'sunsetting', 'invention', 'entitled', 'trucks', 'redish', 'yells', 'indy', 'names', 'khaki', 'last', 'biplane', 'launcher', 'bigs', 'wodden', 'waterfalls', 'dunk', 'wellmuscled', 'does', 'handlers', 'israei', 'ornament', 'lip', 'hulahoop', 'twotone', 'fangs', 'muddy', 'workers', 'effort', 'sizes', 'uniforms', 'section', 'casting', 'pointer', 'crests', 'sliiding', 'husky', 'snuggling', 'skies', 'range', 'll', 'scraping', 'peddled', 'level', 'daschund', 'fashioned', 'hairnet', 'swiftly', 'winning', 'reached', 'afghan', 'spurting', 'sillhouetted', 'stuff', 'impersonators', 'fallen', 'athletic', 'palid', 'buster', 'shells', 'parasailer', 'banjo', 'renaissance', 'favorite', 'depicting', 'bar', 'tiles', 'naturally', 'strolling', 'crossbones', 'thinks', 'furtrimmed', 'sitts', 'gate', 'sponge', 'lighterskinned', 'of', 'including', 'marx', 'jersey', 'mosquelike', 'exchange', 'clump', 'egde', 'swinger', 'concentrating', 'afro', 'cliff', 'scanner', 'slideshow', 'lanyard', 'allowing', 'slinky', 'telephone', 'playhouse', 'opposite', 'composure', 'coasts', 'foliage', 'upper', 'photographic', 'overhanging', 'riverboat', 'attentively', 'ref', 'mothers', 'spins', 'waterskier', 'swing', 'flew', 'watching', 'substance', 'messily', 'photograhi', 'mediumsized', 'ducking', 'world', 'station', 'fluid', 'lunches', 'rackets', 'bear', 'recording', 'hovers', 'lotion', 'chicken', 'desks', 'rainstorm', 'vfw', 'laborador', 'rising', 'puckering', 'balding', 'headed', 'adorned', 'hairstyle', 'hanging', 'patrollers', 'planter', 'fists', 'except', 'which', 'those', 'rodents', 'hackey', 'popcycles', 'army', 'sprinklers', 'henna', 'adjustments', 'merry', 'secured', 'western', 'bathrooms', 'his', 'hardly', 'oppose', 'silk', 'stock', 'driver', 'backstrokes', 'crashes', 'blindfold', 'dark', 'feed', 'comes', 'summersault', 'organized', 'gothic', 'blonde', 'browneyed', 'markings', 'recoiling', 'mercury', 'average', 'licks', 'scarily', 'ballplayer', 'precariously', 'vending', 'holder', 'signpost', 'frolic', 'texts', 'supervision', 'antics', 'four', 'towels', 'headlamp', 'joyfully', 'propped', 'stirred', 'she', 'freeclimbing', 'domino', 'embroidered', 'overhang', 'spotters', 'sleek', 'passers', 'pretending', 'motorboat', 'peolple', 'coastline', 'stared', 'studio', 'speedos', 'longsleeve', 'spread', 'twome', 'cartwheeling', 'nascar', 'footballers', 'mountaindew', 'tatooed', 'chests', 'bluegreen', 'sundown', 'pinwheel', 'medal', 'thie', 'dimpled', 'browse', 'pause', 'rotweiler', 'rapid', 'butterfly', 'latte', 'desertlike', 'aveda', 'treads', 'steps', 'batons', 'effects', 'prayer', 'israel', 'checkstand', 'drooping', 'newspaper', 'keyboard', 'hooded', 'agents', 'yuong', 'jugs', 'canoes', 'loose', 'toilet', 'green', 'twist', 'rehearsing', 'antlers', 'district', 'peircings', 'chicago', 'constructed', 'pees', 'outdoor', 'hooding', 'mother', 'aerobatic', 'daytime', 'kisses', 'rope', 'mitt', 'tried', 'frilly', 'knocked', 'string', 'treat', 'rollerblading', 'stripy', 'triangular', 'saris', 'cringes', 'policewoman', 'trumped', 'retail', 'bum', 'padel', 'descending', 'speakers', 'streambed', 'jetty', 'collar', 'chins', 'hugs', 'dad', 'activities', 'proamerica', 'surprised', 'beverages', 'country', 'payphone', 'ballplayers', 'boardwalk', 'welldressed', 'dge', 'tufts', 'pierlike', 'braiding', 'icey', 'rubber', 'beijing', 'upstream', 'share', 'peoople', 'merchant', 'block', 'paddling', 'social', 'farward', 'blackshirt', 'hips', 'fox', 'throat', 'beckons', 'mortar', 'bounding', 'artsstyle', 'monument', 'jaws', 'manuals', 'rocky', 'proof', 'barack', 'mastif', 'cornfield', 'monkeybars', 'pasta', 'buying', 'flexing', 'return', 'stopping', 'showerhead', 'cavorting', 'freefall', 'javelin', 'exits', 'hitting', 'felled', 'nordic', 'attacking', 'derby', 'footprints', 'uniformed', 'flexibility', 'lampost', 'capri', 'flailing', 'bash', 'buena', 'snowsuit', 'sells', 'blackrimmed', 'acroos', 'berets', 'asphalt', 'awkward', 'array', 'coaster', 'uptop', 'sprawled', 'start', 'spindle', 'weas', 'takeing', 'illustrated', 'moustaches', 'lowcut', 'bluegray', 'blueish', 'parody', 'bernard', 'balances', 'surrounding', 'rottweiller', 'gain', 'huddles', 'blurry', 'backview', 'bodysurfs', 'hip', 'toppless', 'office', 'sheets', 'upon', 'krueger', 'roughly', 'pullovers', 'practicing', 'footwork', 'merchandise', 'forehand', 'aged', 'graffiticovered', 'bluerobed', 'emerging', 'amidst', 'flamboyant', 'gigolo', 'simpsons', 'stove', 'bandaged', 'posing', 'industrial', 'bumble', 'sprawling', 'capped', 'filmed', 'frightened', 'intot', 'recently', 'pawed', 'outfitted', 'rifles', 'something', 'seahorse', 'wand', 'physiques', 'harpsichord', 'para', 'tuxes', 'ads', 'tend', 'pattern', 'checked', 'gregoire', 'beaver', 'flowers', 'nursing', 'jacket', 'jumped', 'travelling', 'bread', 'camps', 'poppies', 'graying', 'ground', 'articles', 'fist', 'whisper', 'serious', 'chrome', 'cot', 'nips', 'tawny', 'skateboarding', 'aframe', 'english', 'outfit', 'mall', 'goggled', 'schoolyard', 'swims', 'ractrack', 'muzzles', 'vibrant', 'confronts', 'coming', 'wilderness', 'tag', 'pylons', 'fill', 'flare', 'here', 'glacial', 'balance', 'suckles', 'windows', 'automobiles', 'speak', 'darts', 'longspandex', 'maple', 'sub', 'pilar', 'anouther', 'stubby', 'kayacker', 'doorbell', 'milling', 'chainsaw', 'defying', 'funky', 'goldencolored', 'battons', 'number', 'neither', 'growling', 'wintertime', 'avrovulcancom', 'roots', 'shaped', 'saucers', 'attaches', 'monk', 'trolley', 'bookstore', 'snowpants', 'aim', 'kayaks', 'gestures', 'score', 'rollerbladers', 'tale', 'swingtype', 'loaves', 'loaded', 'tipping', 'sloped', 'applebee', 'downsteps', 'belt', 'oxford', 'dancers', 'jumper', 'barnlike', 'frisbeen', 'flickr', 'tending', 'link', 'waterskies', 'boods', 'brighly', 'huge', 'gaurdian', 'basket', 'faded', 'bites', 'falcon', 'bridges', 'emits', 'unusual', 'trailing', 'scarves', 'fall', 'reduniformed', 'everyone', 'bending', 'hte', 'snowflake', 'feathers', 'cigars', 'rowing', 'powdery', 'conversations', 'streaked', 'shoreline', 'tax', 'orangesunset', 'indigo', 'bathe', 'spangles', 'discussion', 'tests', 'porcelain', 'shivers', 'jockey', 'cattails', 'groups', 'humorous', 'offered', 'identifier', 'tilts', 'possibly', 'lifting', 'spectating', 'grinding', 'dragster', 'breaks', 'colonial', 'necklace', 'defenders', 'pickup', 'docked', 'engulfed', 'broen', 'released', 'beaded', 'longnecked', 'marching', 'escape', 'aprons', 'tin', 'happen', 'shoeshine', 'heart', 'threeway', 'viewer', 'obligatoire', 'headwear', 'boredom', 'beer', 'uneven', 'frying', 'tatoo', 'concealed', 'further', 'seventh', 'brige', 'lone', 'towers', 'korean', 'baggy', 'joker', 'jersay', 'fireside', 'grimacing', 'cue', 'cobbled', 'bulldog', 'smelling', 'circling', 'footbride', 'congregation', 'mountainclimbing', 'responding', 'arabic', 'dandylions', 'sunshaped', 'backward', 'crocks', 'riders', 'devotion', 'europe', 'teaches', 'laden', 'adopted', 'dead', 'pair', 'baskets', 'snarls', 'wedding', 'fails', 'blossoms', 'grasps', 'masked', 'wields', 'mart', 'clouds', 'wicket', 'underwater', 'bystanders', 'ridge', 'artistic', 'childrens', 'mocks', 'suitcase', 'accross', 'dancefloor', 'late', 'enjoying', 'fourwheel', 'fireball', 'torwards', 'signal', 'canoeing', 'teenagers', 'rollerblader', 'melts', 'buff', 'waist', 'werewolf', 'dribbling', 'marquee', 'grassy', 'dirt', 'shreds', 'hopes', 'day', 'cable', 'marches', 'whites', 'tabby', 'armbands', 'trips', 'oriental', 'skiers', 'insynch', 'pinkbottomed', 'armor', 'croquette', 'camouflage', 'collapses', 'beret', 'mountin', 'bridesmaid', 'urge', 'docks', 'fashion', 'care', 'energizer', 'foliaged', 'stunts', 'lady', 'outstreached', 'grown', 'trackside', 'threatening', 'house', 'resort', 'bout', 'wiener', 'sparsely', 'clustered', 'checkerboard', 'speeds', 'joking', 'pullup', 'separate', 'launching', 'hatted', 'summit', 'pouring', 'horse', 'pump', 'skips', 'formula', 'balloons', 'suspiciously', 'playpen', 'limo', 'beef', 'communications', 'david', 'abarrotes', 'mural', 'lined', 'cob', 'kneel', 'perched', 'bushy', 'logo', 'discouraged', 'bang', 'storefront', 'knit', 'gliders', 'farmland', 'ceiling', 'placed', 'scooter', 'dashboard', 'direction', 'picnickers', 'eats', 'bridge', 'paraglides', 'plants', 'swordsman', 'punts', 'wellgroomed', 'peterson', 'beautiful', 'met', 'transportation', 'village', 'stockings', 'sunflowers', 'chase', 'goat', 'trio', 'vendor', 'sandcastles', 'gift', 'leafcovered', 'risen', 'covers', 'wadingpool', 'can', 'streetshot', 'sharing', 'halves', 'tight', 'background', 'reddishbrown', 'seen', 'yawning', 'halfpipe', 'leaning', 'candle', 'daredevil', 'strength', 'pudding', 'pavilion', 'gleefully', 'reddressed', 'from', 'protection', 'worker', 'fresh', 'las', 'jesus', 'drove', 'maintain', 'marketplace', 'igloo', 'reenactment', 'downtown', 'club', 'trampoline', 'searching', 'exiting', 'mound', 'muscles', 'unpaved', 'slouching', 'crag', 'bouncing', 'gorge', 'ant', 'cuddle', 'spouse', 'jumpinjg', 'soaks', 'kids', 'event', 'shades', 'distant', 'fastened', 'exercise', 'pumps', 'hi', 'playing', 'dress', 'forefront', 'burgundy', 'apportioned', 'homemade', 'onearmed', 'landscaped', 'arid', 'trooper', 'navigating', 'wild', 'paintbrush', 'snowbank', 'calm', 'underhang', 'sewing', 'dalmation', 'circles', 'horseback', 'mannequins', 'diveboard', 'pianist', 'entertainer', 'drift', 'court', 'missing', 'handstand', 'murky', 'foreground', 'gauges', 'laceup', 'stirs', 'frames', 'retrives', 'seated', 'backround', 'charges', 'djs', 'mouse', 'longish', 'wmoan', 'reeling', 'college', 'backdrop', 'fire', 'drops', 'notice', 'worshippers', 'locks', 'winds', 'periods', 'midswing', 'beads', 'raises', 'wiping', 'tripod', 'officiallooking', 'attempts', 'flees', 'enviorment', 'peacoat', 'brian', 'halo', 'skislope', 'pace', 'viewpoint', 'dacshund', 'clad', 'escorts', 'hawaiian', 'crotch', 'harvest', 'blackblue', 'goalie', 'footballer', 'referee', 'everything', 'chops', 'throws', 'poorly', 'float', 'exposition', 'highway', 'opponents', 'residential', 'soapy', 'offwhite', 'jumphouse', 'contestent', 'ot', 'mountaintop', 'operating', 'puddle', 'dolphin', 'camping', 'lands', 'submerges', 'monkey', 'leashes', 'intended', 'historic', 'defending', 'cop', 'lenses', 'windsurfers', 'traffic', 'smeared', 'purchasing', 'chin', 'carts', 'grabs', 'pails', 'barbeque', 'ramps', 'boat', 'hugging', 'ruggers', 'shutters', 'onlookers', 'skisuit', 'screeches', 'capture', 'outline', 'far', 'onrushing', 'kiyaking', 'dirtbikers', 'la', 'playroom', 'burnished', 'brief', 'dribbled', 'bones', 'waterbed', 'cbs', 'princess', 'written', 'heavy', 'cooks', 'helmeted', 'shaggy', 'opened', 'attending', 'overlooks', 'expressing', 'affectionately', 'goaltender', 'hiker', 'burrowing', 'flight', 'steadies', 'talk', 'burned', 'suds', 'goldenrod', 'projector', 'sniffed', 'nylon', 'dew', 'trip', 'foggyday', 'juming', 'dumps', 'flipflop', 'sniffs', 'waterproofs', 'palm', 'farris', 'slurps', 'darker', 'sexy', 'remax', 'hairdo', 'jumpy', 'rescue', 'son', 'eyese', 'morning', 'skins', 'stretcher', 'speed', 'military', 'teams', 'salon', 'lakes', 'newlyweds', 'windy', 'entertains', 'haystacks', 'involves', 'waits', 'artists', 'longeared', 'silhouette', 'squeals', 'mma', 'copper', 'windsurfing', 'gowns', 'pitched', 'brought', 'polka', 'snowboarder', 'spelling', 'have', 'process', 'vat', 'halfburied', 'bench', 'pitch', 'head', 'watery', 'soldiers', 'exit', 'sash', 'loofa', 'laying', 'dashes', 'served', 'laughed', 'packs', 'handrails', 'brazilian', 'seesaw', 'aggresively', 'pale', 'pastels', 'hopper', 'sledge', 'pouch', 'pinkcoated', 'prance', 'pitching', 'retrievers', 'racquet', 'over', 'challenging', 'crown', 'innertube', 'crouch', 'knocks', 'fun', 'rockface', 'haystack', 'picnic', 'shaded', 'dumping', 'interact', 'cappedhills', 'rainling', 'hair', 'kit', 'mandolin', 'tidal', 'sized', 'stained', 'rappels', 'enjoyment', 'clay', 'boats', 'powder', 'bulls', 'speaks', 'cause', 'watersports', 'helping', 'information', 'gravity', 'movie', 'colorful', 'ability', 'dinner', 'tireshaped', 'via', 'skydivers', 'snowsuits', 'whose', 'swan', 'hand', 'marlins', 'bean', 'flattened', 'cheering', 'convenience', 'oddly', 'active', 'hopping', 'playmat', 'hulahoops', 'notepad', 'civillians', 'caucasion', 'panoramic', 'lipstick', 'raft', 'sandal', 'skills', 'seyeview', 'picks', 'lilypads', 'mouths', 'crawling', 'balloon', 'scrubland', 'awe', 'auditorium', 'strawberries', 'tutu', 'areas', 'rugged', 'sweatpants', 'shows', 'necks', 'notices', 'mushing', 'voice', 'bigbox', 'lap', 'blurred', 'drill', 'horses', 'raingear', 'liberty', 'some', 'stopped', 'crates', 'steer', 'farmer', 'iced', 'mail', 'ashen', 'towarn', 'ghostbuster', 'barrette', 'who', 'siluettes', 'paddle', 'retrieve', 'lollipop', 'headband', 'collects', 'pug', 'firework', 'lame', 'sprays', 'microphones', 'between', 'rows', 'dropping', 'bikins', 'shorthair', 'skating', 'equipments', 'clap', 'gushing', 'bounces', 'leather', 'cordoned', 'sequined', 'plains', 'chairlift', 'honest', 'orbs', 'fending', 'saddle', 'torii', 'colapsable', 'emotionally', 'pursing', 'daughter', 'rips', 'fanny', 'overgrown', 'wearhing', 'tshirt', 'goes', 'festival', 'halloween', 'ankledeep', 'hungry', 'welllit', 'coppery', 'types', 'desolate', 'alley', 'bills', 'horseshoe', 'so', 'windsurfer', 'fish', 'do', 'san', 'footballs', 'gentle', 'accelerates', 'headlight', 'surf', 'dice', 'railed', 'announcer', 'trace', 'carreis', 'horizontallystriped', 'tourquoise', 'lit', 'polo', 'ditch', 'tropical', 'learns', 'craw', 'pursued', 'rellow', 'mounted', 'own', 'embedded', 'coaching', 'prancing', 'tights', 'boardedup', 'openmouthed', 'fair', 'sweater', 'touched', 'streaks', 'spinning', 'persian', 'blues', 'pointy', 'amongst', 'golfers', 'potted', 'cropped', 'sock', 'partner', 'shouts', 'isolated', 'redheaded', 'protectors', 'fortune', 'political', 'ensemble', 'jukebox', 'congregate', 'moon', 'parklike', 'onsie', 'playstation', 'canvas', 'bumps', 'cuts', 'party', 'ou', 'bmxer', 'easter', 'summer', 'milkshake', 'racers', 'backpacks', 'hold', 'am', 'curvy', 'instructor', 'cattle', 'wars', 'happiness', 'looms', 'towing', 'dirtracing', 'yacht', 'save', 'tears', 'squating', 'pencils', 'santas', 'soar', 'fours', 'nursery', 'machinery', 'bronze', 'spring', 'lowering', 'rifding', 'surface', 'moms', 'hapily', 'embraces', 'complimentary', 'excites', 'jacks', 'makes', 'rider', 'surgical', 'know', 'iron', 'ski', 'toast', 'raise', 'heights', 'sloppy', 'widows', 'browsing', 'juggles', 'whispering', 'waterhole', 'slopes', 'fatigues', 'nodding', 'bride', 'attacked', 'objest', 'behind', 'purse', 'prairie', 'popper', 'helped', 'gallery', 'mcdonald', 'romping', 'carrying', 'lesh', 'digging', 'groupe', 'dismounts', 'furred', 'cements', 'interlocking', 'carring', 'syrup', 'streamers', 'canned', 'greyblue', 'taps', 'dizzy', 'hops', 'cresting', 'sunbathing', 'multicolor', 'panda', 'lapse', 'specialized', 'spare', 'largley', 'fleecy', 'canon', 'waaves', 'bulky', 'tram', 'multiprint', 'blooming', 'member', 'pail', 'asleep', 'dusk', 'tugging', 'martial', 'popsicles', 'tankini', 'darkhaired', 'wall', 'tinkerbell', 'cleaned', 'jeans', 'currently', 'catered', 'identically', 'raceway', 'cross', 'rafter', 'shoelaces', 'philadelphia', 'waitress', 'calculate', 'terrain', 'bed', 'up', 'suburban', 'rakes', 'spigot', 'saturated', 'pursuing', 'me', 'buss', 'sweatband', 'licking', 'passed', 'say', 'pass', 'windmill', 'cellos', 'shakes', 'dreary', 'wagging', 'rummage', 'got', 'frolicks', 'punctured', 'portojohn', 'unamused', 'masks', 'broadly', 'wintery', 'mommy', 'rafael', 'mixing', 'scientist', 'family', 'each', 'faced', 'concert', 'strapped', 'collaborating', 'athlete', 'fig', 'topless', 'sect', 'bullhorn', 'llama', 'antennae', 'swordfight', 'motors', 'gondoliers', 'birds', 'lining', 'flower', 'bamboo', 'bums', 'referees', 'plate', 'positioned', 'greenery', 'spout', 'divers', 'bound', 'vans', 'better', 'calmer', 'silhouetted', 'entertainment', 'sumo', 'seperate', 'joy', 'revealed', 'walkways', 'examined', 'colecting', 'bag', 'gathered', 'hanna', 'askance', 'guided', 'television', 'gnaws', 'march', 'musicans', 'department', 'blades', 'kerry', 'driftrood', 'hands', 'fight', 'glides', 'overturned', 'snacks', 'tandem', 'wades', 'shephard', 'pecking', 'roddick', 'olympic', 'racket', 'wringing', 'won', 'booklets', 'gra', 'coupe', 'offers', 'eye', 'cannon', 'opposing', 'gray', 'hindu', 'reach', 'post', 'finish', 'mountaineer', 'school', 'beneath', 'popsicle', 'pretty', 'stains', 'cycling', 'tented', 'nice', 'buttoned', 'enforcement', 'apparently', 'delivery', 'crow', 'picutre', 'hovering', 'touts', 'grayhaired', 'dome', 'maneuver', 'on', 'partially', 'belts', 'buckled', 'encourages', 'bodysuit', 'mittened', 'happening', 'wires', 'dachshunds', 'election', 'cast', 'railing', 'fence', 'sarongs', 'wisks', 'canadian', 'accends', 'spray', 'cricket', 'film', 'chipmunk', 'backpackers', 'williams', 'blondhair', 'skyscrapers', 'arrow', 'arbor', 'leash', 'mainly', 'relatively', 'controls', 'driveway', 'wolflike', 'cradling', 'smu', 'schoolchildren', 'carabiner', 'hotrod', 'swarmed', 'sheperd', 'mills', 'patrick', 'pawing', 'lightup', 'encripted', 'cage', 'operates', 'portland', 'redclad', 'halfdressed', 'arabian', 'chest', 'offering', 'headset', 'suite', 'suburbs', 'empty', 'attraction', 'backlegs', 'atmosphere', 'linked', 'projected', 'beers', 'soocerball', 'films', 'snorkel', 'paisley', 'another', 'getting', 'scarfs', 'nibbles', 'lead', 'algae', 'pride', 'uncrowded', 'stride', 'obedience', 'artificial', 'presentations', 'impersonator', 'debris', 'startled', 'pan', 'weimaraner', 'kaki', 'stairway', 'males', 'loops', 'sail', 'goals', 'frame', 'crocheted', 'blog', 'repels', 'leopard', 'cup', 'mate', 'fights', 'wig', 'beatup', 'shelton', 'backseat', 'caterpillar', 'rodderick', 'diaper', 'recieve', 'sprinkling', 'stairs', 'retriving', 'bundles', 'land', 'arch', 'countertop', 'huskey', 'baskers', 'enough', 'banana', 'drumming', 'intently', 'payfully', 'orca', 'sooners', 'spell', 'went', 'ups', 'outdoors', 'collision', 'rearview', 'giggling', 'across', 'create', 'control', 'earmuffs', 'hardscape', 'romantically', 'lecturing', 'casino', 'confetti', 'enlarged', 'aided', 'receives', 'breaded', 'couches', 'oklahoma', 'narby', 'youngle', 'straw', 'outcropping', 'cookie', 'but', 'alter', 'straight', 'modern', 'science', 'newlywed', 'cheers', 'gym', 'oh', 'pooping', 'formed', 'escalators', 'maintained', 'board', 'atheletes', 'fiesty', 'height', 'tattoos', 'casual', 'strong', 'shading', 'gal', 'potao', 'crystalclear', 'goose', 'starting', 'pedestrian', 'swampy', 'shirtness', 'pastel', 'anticipates', 'windsailing', 'field', 'stance', 'cook', 'gesticulates', 'driverside', 'snack', 'pirates', 'rummaging', 'skyscraper', 'costumes', 'tripped', 'neighborhood', 'gives', 'brandishes', 'cheer', 'thows', 'breathing', 'slaloms', 'port', 'lionist', 'enforcment', 'overshirt', 'espana', 'mountaineers', 'fourwheeled', 'trows', 'war', 'chubby', 'marinelifethemed', 'meditational', 'albert', 'motorcyclist', 'slurpees', 'hiding', 'jewels', 'judge', 'watermelons', 'extreme', 'music', 'games', 'turquoise', 'pits', 'collie', 'contorted', 'lens', 'treelined', 'judea', 'fishes', 'fenced', 'coats', 'fit', 'corral', 'gontaga', 'bleached', 'suits', 'seeds', 'batting', 'moustache', 'streetway', 'unshaven', 'emerges', 'rusty', 'question', 'eccentric', 'stand', 'shark', 'manually', 'eleven', 'dhe', 'paperwork', 'handkerchiefs', 'noise', 'pairs', 'cake', 'bald', 'clutching', 'underfoot', 'sofa', 'whoa', 'swimwear', 'oval', 'pontoon', 'tw', 'teaching', 'lump', 'glee', 'scull', 'pours', 'sidewalks', 'professionally', 'carefully', 'vegetation', 'birdcage', 'faux', 'kickbox', 'parking', 'round', 'stony', 'champ', 'abdomen', 'brothers', 'rough', 'wildflowers', 'silhouettes', 'swingset', 'tbe', 'scratches', 'baptized', 'livestock', 'relaxing', 'paint', 'blitz', 'power', 'shute', 'props', 'fastens', 'break', 'paints', 'antelope', 'bathtub', 'continues', 'beetle', 'handling', 'trials', 'defaced', 'nets', 'tongues', 'handinhand', 'sleeping', 'bagpipes', 'pulleys', 'brochure', 'scalling', 'dilapidated', 'encouraging', 'bandages', 'positions', 'flopping', 'musicians', 'bars', 'coiled', 'fisherman', 'ace', 'crouching', 'equiment', 'standing', 'tickets', 'collide', 'headscarves', 'expose', 'lambs', 'spots', 'doghouse', 'biker', 'shaky', 'puzzled', 'enterance', 'tilted', 'skin', 'impact', 'senior', 'engulf', 'moment', 'waists', 'meat', 'sill', 'flautist', 'campflauge', 'subject', 'bungeejumping', 'swirls', 'eastpak', 'trombone', 'decide', 'girt', 'drak', 'terrior', 'spirit', 'tugs', 'multiple', 'flume', 'completely', 'sloping', 'distnat', 'skims', 'sails', 'instructing', 'slipping', 'halmets', 'violins', 'mohawk', 'battle', 'website', 'upturned', 'splashed', 'load', 'orangish', 'balls', 'trailer', 'emitting', 'ohio', 'blurs', 'fetched', 'china', 'screaming', 'minitrampoline', 'ribbon', 'nibbling', 'thriller', 'haircut', 'sleds', 'videocameras', 'yarn', 'silver', 'shawled', 'shot', 'families', 'crew', 'crosscountry', 'camera', 'perfoms', 'fingers', 'anticipation', 'decked', 'slates', 'meandering', 'pastor', 'zone', 'cheerleaders', 'desperate', 'miniskirts', 'phillie', 'there', 'youths', 'converging', 'jewelry', 'dads', 'airplane', 'peak', 'adventures', 'winston', 'cardboard', 'enjoys', 'waling', 'wrestle', 'hangong', 'forearm', 'deciding', 'oldfashioned', 'shorline', 'bunk', 'misty', 'fingerhold', 'perpendicular', 'redbull', 'pyrotechnics', 'multilple', 'burlap', 'yoga', 'countryside', 'system', 'suggestive', 'shorter', 'communal', 'collars', 'touchdown', 'dancer', 'lifeboat', 'observed', 'atomic', 'gap', 'policeperson', 'canal', 'returns', 'solid', 'lucky', 'wetsuits', 'shimp', 'blackgreen', 'outstreched', 'flapping', 'springtime', 'treefilled', 'gallopsing', 'frustrated', 'dried', 'prom', 'machine', 'swimmers', 'parasailing', 'lilies', 'artwork', 'rushing', 'tied', 'him', 'shopping', 'camper', 'sip', 'obscures', 'backstand', 'lassie', 'mechanical', 'signature', 'bends', 'nature', 'cigerette', 'leaves', 'riverside', 'not', 'cougar', 'canals', 'crust', 'foosball', 'content', 'wrists', 'soundproof', 'angrily', 'caution', 'exploring', 'fake', 'and', 'speedboat', 'strains', 'blocked', 'adolescent', 'knee', 'chain', 'roped', 'sponsors', 'yellowgold', 'shops', 'grayish', 'shore', 'posts', 'single', 'punting', 'ependent', 'chute', 'bikinis', 'tundra', 'acting', 'trapped', 'red', 'cashier', 'lakeside', 'resaurant', 'cord', 'bobbed', 'homerun', 'amusement', 'companions', 'geishas', 'mouthing', 'nussle', 'official', 'sleeved', 'staue', 'starbucks', 'very', 'windsurf', 'programs', 'dwelling', 'market', 'soggy', 'blondehaired', 'graffitifilled', 'flooring', 'bottoms', 'dusty', 'peoplw', 'participant', 'nadal', 'hood', 'yellowsuited', 'paddock', 'robe', 'showered', 'wavy', 'yelling', 'wakeboarding', 'miami', 'barrior', 'decortive', 'midafternoon', 'piglet', 'bearers', 'frizzy', 'checkout', 'withdrawing', 'kiddie', 'castles', 'hot', 'campsite', 'grandmother', 'dressedup', 'whizzes', 'representing', 'guitarists', 'walls', 'glittery', 'wide', 'litter', 'necked', 'attacks', 'points', 'rectangle', 'reentry', 'clowns', 'sunsets', 'cheeseburger', 'reclining', 'skimpy', 'times', 'shelves', 'demolished', 'hotair', 'type', 'legs', 'socializing', 'measuring', 'autos', 'stripped', 'foreround', 'bicylist', 'pregnant', 'knocking', 'buys', 'products', 'muscular', 'piste', 'pods', 'classmates', 'carolina', 'stamds', 'shredded', 'butchers', 'hoddie', 'intensely', 'smirks', 'other', 'hotpink', 'us', 'mouth', 'balconies', 'critter', 'trained', 'motion', 'bangs', 'horro', 'guitars', 'dachshund', 'sheperds', 'afican', 'gentleman', 'cartwheel', 'controlling', 'lapel', 'constructions', 'new', 'tall', 'phone', 'sparring', 'wool', 'storefronts', 'buggies', 'belongs', 'karate', 'beats', 'female', 'forested', 'craft', 'redseated', 'notre', 'weiner', 'redskins', 'witches', 'plucking', 'shaking', 'record', 'broadway', 'wading', 'justice', 'kayaking', 'electric', 'hardhat', 'fat', 'gymnasium', 'leads', 'called', 'dry', 'strips', 'photographs', 'blondhaired', 'bluejeans', 'tips', 'rallies', 'emty', 'notsocrowded', 'confronted', 'dinosaur', 'york', 'asking', 'kayakers', 'tentatively', 'pose', 'rods', 'waterproof', 'dandelions', 'kickboxing', 'curls', 'lookout', 'floatlys', 'shallow', 'spreads', 'rotating', 'penzance', 'ravine', 'bracelets', 'taxi', 'blazing', 'housing', 'embankment', 'rugs', 'tow', 'banners', 'preteen', 'visible', 'contemplates', 'lays', 'wolf', 'folding', 'flighht', 'dragons', 'wooly', 'kitchen', 'hoops', 'rockets', 'spandex', 'cylindrical', 'cloudy', 'tanned', 'bikina', 'lioness', 'mallard', 'pictures', 'verdant', 'dingo', 'performance', 'wildebeest', 'powerlines', 'exercised', 'damaged', 'mounds', 'group', 'seat', 'snowball', 'suns', 'cleaning', 'numbers', 'tongue', 'search', 'ropey', 'closeout', 'colander', 'zebra', 'bomber', 'geese', 'footbridge', 'onlooker', 'dug', 'crossed', 'hula', 'shake', 'prey', 'kayaker', 'aquatic', 'stringed', 'wuth', 'wait', 'forest', 'detector', 'sends', 'withering', 'kayer', 'tackling', 'either', 'freak', 'planting', 'high', 'focuses', 'north', 'players', 'broom', 'regains', 'lips', 'retriever', 'adornment', 'origin', 'layer', 'comforting', 'trek', 'pebble', 'glider', 'widow', 'drifting', 'assistance', 'crumbling', 'interviewed', 'armchair', 'blouse', 'motorbiker', 'consulting', 'shetland', 'mud', 'shady', 'join', 'carried', 'dandilions', 'mittens', 'turkey', 'construction', 'propels', 'crane', 'crime', 'faces', 'patiently', 'creeping', 'logs', 'ponytails', 'goofy', 'viewing', 'evil', 'bouquet', 'dances', 'hugged', 'hapy', 'brindlecolored', 'reacting', 'packaged', 'straddle', 'unfinished', 'boys', 'wets', 'test', 'formations', 'fins', 'aside', 'barge', 'democrat', 'bedroll', 'ipods', 'bracing', 'shawls', 'wrapped', 'cleared', 'signage', 'obscene', 'walled', 'applauding', 'soled', 'amuseument', 'fleeces', 'informal', 'piling', 'knuckle', 'intersection', 'wildly', 'smilling', 'alcohol', 'rite', 'bat', 'features', 'soaking', 'anthem', 'sideline', 'parent', 'movers', 'blockers', 'ampitheater', 'alike', 'congratulate', 'whilst', 'sands', 'heading', 'stylish', 'quickly', 'pockets', 'huddle', 'hdr', 'collected', 'garbage', 'saucer', 'aquos', 'arms', 'clothes', 'studies', 'blurring', 'self', 'diner', 'progressively', 'architectural', 'germanshepherd', 'jacuzzi', 'fisher', 'pillows', 'toothpaste', 'wipe', 'chasseing', 'snarling', 'caribbean', 'stomach', 'brother', 'tackled', 'paced', 'obscuring', 'amid', 'twilight', 'dips', 'cottage', 'outfield', 'road', 'crazy', 'rod', 'cabana', 'washed', 'pats', 'wii', 'gymnastics', 'wristwatch', 'views', 'worried', 'below', 'portopotties', 'sets', 'dip', 'referring', 'bruised', 'punch', 'working', 'finley', 'waterwear', 'parasailors', 'phones', 'thousand', 'foul', 'navy', 'tracks', 'banks', 'htting', 'slender', 'complex', 'populated', 'line', 'offcamera', 'spiking', 'stands', 'connected', 'looming', 'tagged', 'non', 'exhibt', 'lamb', 'column', 'citizens', 'forcing', 'helplessly', 'circuit', 'billboards', 'motioning', 'upside', 'ont', 'roses', 'barbwire', 'juice', 'spaced', 'pillow', 'guy', 'stones', 'eatery', 'ear', 'fatigue', 'pinkhooded', 'memorabilia', 'bicyclers', 'putting', 'peek', 'blazer', 'percussionists', 'street', 'paddlers', 'kong', 'vaulting', 'closely', 'emerald', 'energetic', 'mowed', 'beam', 'bottled', 'special', 'huskylike', 'piloting', 'shadows', 'claps', 'enjoy', 'min', 'aquarium', 'chidl', 'cheeks', 'videogame', 'tuxedos', 'liked', 'pink', 'airborne', 'poured', 'centipede', 'swarming', 'rollerskater', 'revealing', 'bunchh', 'pedalling', 'cap', 'joke', 'sticking', 'progress', 'screams', 'forelegs', 'neptuno', 'teamates', 'spiderpatterned', 'selfportrait', 'tunic', 'cloth', 'jungle', 'shirted', 'mosscovered', 'lift', 'session', 'changing', 'hairy', 'dragon', 'bareback', 'leaving', 'mulch', 'motorized', 'rush', 'catholic', 'exibit', 'grotto', 'pedaling', 'bandmates', 'objective', 'woman', 'facedown', 'wants', 'sticker', 'few', 'bigwheels', 'spokes', 'studded', 'preservers', 'challenges', 'pour', 'confrontation', 'tube', 'director', 'exercising', 'tantrum', 'gas', 'laptops', 'arts', 'seats', 'tumbleweed', 'pearl', 'stretchy', 'fourth', 'waiter', 'icy', 'taller', 'converge', 'clowning', 'landing', 'pads', 'pen', 'talking', 'eyepatch', 'novelty', 'drum', 'assorted', 'recyclable', 'fishers', 'sculpture', 'idyllic', 'layered', 'outstretched', 'butting', 'mown', 'dolls', 'kick', 'redvested', 'they', 'raincoat', 'grond', 'traveller', 'otuside', 'mardis', 'long', 'french', 'garland', 'yankees', 'cleats', 'pedestrians', 'skipped', 'handstands', 'fringe', 'laundry', 'marshy', 'backstage', 'unique', 'bubbles', 'sell', 'formally', 'ink', 'mike', 'opportunity', 'lunges', 'ascends', 'frowning', 'knoll', 'objects', 'buildabear', 'clear', 'leashed', 'show', 'register', 'fly', 'vegetables', 'brownishred', 'mysterious', 'hunched', 'animals', 'creepy', 'enclosure', 'spills', 'this', 'tide', 'khakis', 'cafeteria', 'rack', 'dirtbikes', 'antiquated', 'cycle', 'rubble', 'off', 'sniffing', 'oppsing', 'toll', 'royal', 'naval', 'hilltops', 'oclock', 'expressions', 'apparantly', 'passageway', 'woamn', 'speaking', 'stretching', 'portapotty', 'trench', 'lighter', 'grips', 'lost', 'ballet', 'rowed', 'trotting', 'drink', 'cigarettes', 'album', 'lamppost', 'cyclist', 'rash', 'foot', 'sandpit', 'adhd', 'mudfight', 'eachothers', 'took', 'cars', 'bluestriped', 'stops', 'smokestacks', 'racing', 'extending', 'looks', 'meanders', 'pretend', 'groomsmen', 'tandom', 'crafted', 'laughs', 'softdrinks', 'blood', 'motor', 'gust', 'after', 'fences', 'bus', 'shire', 'themed', 'package', 'organic', 'sandbox', 'whitefooted', 'beyond', 'rugby', 'streetpole', 'traveler', 'louis', 'flyaway', 'has', 'defender', 'saffron', 'heeled', 'boards', 'downhill', 'mist', 'waterline', 'weilding', 'pigeons', 'strange', 'kitty', 'chalkboard', 'waeribng', 'modifications', 'individual', 'excavating', 'yell', 'footage', 'brake', 'goers', 'bracelet', 'competitively', 'holds', 'steam', 'john', 'bongo', 'plugging', 'ate', 'muslim', 'squirts', 'ends', 'bog', 'snowballs', 'winnie', 'breaking', 'jump', 'sailboat', 'backbends', 'gallops', 'garmet', 'midst', 'finds', 'graygreen', 'encouraged', 'thing', 'repelling', 'cheeked', 'twenty', 'warming', 'harness', 'fireplace', 'writes', 'setter', 'cinderblock', 'billiards', 'firehose', 'backless', 'contraption', 'riverrapids', 'curlyhaired', 'highland', 'dune', 'whitewater', 'ridden', 'beaten', 'flares', 'alertly', 'ripped', 'overshadows', 'marked', 'sweat', 'colourful', 'sunbathers', 'tussle', 'roping', 'turning', 'taught', 'clipped', 'bartype', 'purchase', 'surveying', 'reaching', 'helmets', 'garter', 'cavern', 'driftwood', 'bodies', 'breasts', 'tan', 'compact', 'destination', 'payer', 'plank', 'pushing', 'hits', 'flaming', 'quaint', 'coldweather', 'wiffle', 'windowsill', 'petting', 'muzzle', 'material', 'shower', 'fruit', 'cream', 'light', 'alert', 'sweaters', 'headbands', 'greyhound', 'earphone', 'quick', 'surfboarder', 'pecks', 'axe', 'teenage', 'iceskate', 'lunchbox', 'longhaired', 'squeak', 'tabs', 'hallway', 'dupar', 'action', 'corrugated', 'frowns', 'award', 'competitive', 'ypoung', 'fireman', 'sink', 'ignores', 'color', 'mop', 'flash', 'unifrom', 'poms', 'popscicles', 'superman', 'montana', 'giong', 'holing', 'midclimb', 'overfilled', 'cash', 'seashore', 'chaperone', 'strolls', 'beach', 'quilted', 'armenian', 'children', 'conch', 'luggage', 'cowgirl', 'roosters', 'vast', 'thrown', 'uphill', 'pamphlets', 'minimal', 'streets', 'bricks', 'squeezes', 'refugees', 'gravel', 'doge', 'snowcapped', 'pro', 'watercraft', 'shallows', 'shoveling', 'stair', 'rock', 'pnc', 'sailboard', 'flashes', 'brownhaired', 'teen', 'spiritual', 'momma', 'ghostbusters', 'shoulderhigh', 'man', 'ringed', 'magicians', 'panel', 'bin', 'skater', 'pumpkin', 'hairclips', 'gallop', 'highschoolers', 'born', 'sucks', 'shirts', 'perform', 'dogsled', 'midleap', 'flooded', 'sinking', 'container', 'perfors', 'excercises', 'fixing', 'adult', 'showing', 'dale', 'goldenbrown', 'awkwardly', 'soaked', 'bouncey', 'beached', 'wrap', 'bounds', 'sequins', 'occassion', 'cushion', 'hurdlejumper', 'face', 'tutus', 'un', 'hilltop', 'aisle', 'steap', 'repair', 'snowpacked', 'incredible', 'yellowish', 'hotel', 'gaurd', 'sprint', 'cadet', 'flowing', 'versus', 'offensive', 'scene', 'nails', 'jets', 'overflow', 'costume', 'onesie', 'grownup', 'diferent', 'holy', 'yellowgrassed', 'jockeys', 'burbur', 'elevation', 'sidecar', 'teacher', 'wishing', 'earrings', 'ladies', 'packed', 'diverse', 'twins', 'snow', 'flipping', 'bandanas', 'pound', 'cheery', 'tote', 'bend', 'actor', 'rappelling', 'hilly', 'pice', 'big', 'words', 'vaulter', 'somersaults', 'fantasy', 'pops', 'shoots', 'musical', 'sculptures', 'fort', 'flipped', 'owners', 'supervise', 'fixer', 'rifle', 'boatload', 'discovers', 'behing', 'equestrian', 'starring', 'catwalk', 'passenager', 'waterskis', 'kissing', 'darkly', 'motorcycles', 'shotongoal', 'horn', 'jumping', 'reeds', 'crowds', 'includes', 'checkered', 'resembling', 'razer', 'braces', 'net', 'feathered', 'egytianlike', 'cables', 'gith', 'carving', 'nfl', 'tops', 'swerves', 'tread', 'worn', 'sveral', 'frolics', 'adoring', 'deeper', 'tough', 'celebrating', 'peer', 'buffet', 'rust', 'courtyard', 'orchestra', 'chained', 'sight', 'sightseers', 'armour', 'benches', 'inflated', 'dipping', 'buy', 'assemble', 'covering', 'upset', 'throwing', 'bottom', 'bridesmaids', 'cut', 'refreshment', 'wrestlers', 'moves', 'meal', 'races', 'vike', 'acrobatics', 'handwritten', 'shine', 'read', 'for', 'sportman', 'aross', 'native', 'hurridly', 'tapped', 'foam', 'operators', 'untouched', 'baton', 'photograph', 'spike', 'competing', 'americans', 'touches', 'catching', 'tuner', 'downstream', 'whack', 'go', 'edged', 'groceries', 'darkcolored', 'banister', 'midget', 'weeping', 'nine', 'ciff', 'temple', 'beard', 'scruffy', 'inline', 'leaguer', 'ca', 'tasting', 'losing', 'headdresses', 'lilly', 'sports', 'weimaraners', 'waiting', 'nd', 'breaststroke', 'class', 'force', 'mistletoe', 'bangles', 'nt', 'afternoon', 'rental', 'twirl', 'lacrosse', 'responders', 'dont', 'barks', 'beaks', 'acrobat', 'dim', 'box', 'shews', 'daschunds', 'race', 'be', 'cereal', 'gondola', 'shining', 'coverall', 'flexible', 'rapids', 'dozes', 'document', 'skinny', 'skeletonprinted', 'possible', 'halfway', 'bears', 'tikes', 'states', 'chunky', 'motorcross', 'cards', 'two', 'buttonup', 'boogieboard', 'trackandfield', 'presents', 'guardsman', 'synchronized', 'waitresses', 'overlooking', 'corgi', 'brushes', 'ascend', 'dolly', 'blue', 'elaborate', 'accepts', 'cries', 'ollies', 'pinned', 'community', 'middleeastern', 'bandage', 'pool', 'zara', 'mutltiple', 'battling', 'affixed', 'hats', 'pearls', 'motorcycle', 'africans', 'swarm', 'outfut', 'blackboard', 'circumvents', 'entertainers', 'aids', 'pumped', 'fighters', 'collapsing', 'gin', 'messanger', 'rafts', 'consoling', 'taken', 'hoodies', 'bow', 'gokart', 'colt', 'run', 'trike', 'leaf', 'name', 'tramples', 'debri', 'tim', 'jacketed', 'freshly', 'cannot', 'snowmobile', 'floored', 'rundown', 'tanktop', 'womand', 'cry', 'sentence', 'skii', 'chair', 'bathes', 'topdown', 'form', 'hard', 'motorscooter', 'coveralls', 'circle', 'unfurling', 'racedog', 'shade', 'lodge', 'certificates', 'point', 'skiing', 'horsemen', 'parallel', 'stuntbicyclist', 'bottles', 'photographers', 'collides', 'gemmed', 'snoring', 'already', 'waterfilled', 'coverings', 'socks', 'gay', 'structures', 'pompoms', 'antenna', 'highfive', 'wetland', 'factory', 'coloful', 'traveling', 'headwrap', 'diry', 'elephant', 'cocked', 'ages', 'padding', 'rounded', 'fastest', 'japanesesponsored', 'popped', 'bandanna', 'plow', 'records', 'mules', 'wears', 'seaguls', 'sack', 'descent', 'wet', 'both', 'orthodox', 'mountainside', 'forceful', 'priests', 'pensively', 'waterway', 'real', 'lightly', 'upward', 'photo', 'chalked', 'swatting', 'bodyless', 'separated', 'clothesline', 'gathering', 'admiring', 'aliens', 'defensive', 'handle', 'doe', 'sunlit', 'would', 'floated', 'lifeguards', 'properly', 'busstop', 'parka', 'lolly', 'need', 'depicts', 'picket', 'dunes', 'inflating', 'team', 'cases', 'volkswagen', 'laid', 'thong', 'sewn', 'lower', 'sign', 'butt', 'foggy', 'branding', 'enclosed', 'assault', 'index', 'suspension', 'armful', 'waterpark', 'bunnies', 'longbearded', 'brilliant', 'jumpsuits', 'cautious', 'waterboard', 'diver', 'lick', 'skeleton', 'button', 'markers', 'kickboxer', 'massage', 'crashing', 'burrows', 'cow', 'turquiose', 'strides', 'cheerful', 'thirty', 'swingtoy', 'iove', 'blackrobed', 'falls', 'riverbank', 'packer', 'freddy', 'fully', 'removes', 'brightlylit', 'perspective', 'snoopy', 'battles', 'clemson', 'tablet', 'skewed', 'exercisewheel', 'blackhaired', 'stream', 'dust', 'pinscher', 'goats', 'hat', 'reflects', 'delivering', 'defecating', 'idea', 'genocide', 'exciting', 'traverses', 'used', 'canoe', 'before', 'gound', 'unconventional', 'twowheeled', 'log', 'machines', 'nerf', 'quite', 'suspended', 'dunked', 'designs', 'bows', 'earth', 'vehicles', 'cylinder', 'related', 'grinning', 'tower', 'fooling', 'goodbye', 'soaker', 'prepares', 'emblems', 'glassy', 'loser', 'thrower', 'people', 'lollipops', 'leotard', 'painted', 'husks', 'father', 'revel', 'cannonball', 'roughhousing', 'similar', 'canoers', 'press', 'floats', 'eyeing', 'parents', 'printed', 'belly', 'person', 'grand', 'winding', 'thermos', 'safron', 'humans', 'firing', 'ready', 'profusely', 'protects', 'chested', 'illuminated', 'furious', 'returning', 'locomotives', 'seawall', 'competiton', 'readied', 'pinball', 'leaned', 'mcdonalds', 'casterol', 'throw', 'wounds', 'gloved', 'at', 'ocean', 'posed', 'an', 'harvested', 'their', 'mountaintops', 'inertia', 'library', 'zooms', 'lawnchair', 'caches', 'sheep', 'pacman', 'vine', 'whitemetal', 'bulletproof', 'scored', 'advertising', 'outfir', 'framed', 'goggles', 'floor', 'piercing', 'sledlike', 'paperback', 'umbrella', 'student', 'sang', 'come', 'fruits', 'standard', 'clover', 'backtoback', 'notes', 'contracption', 'labelled', 'scratching', 'ninjalike', 'rests', 'buzzes', 'bullbranded', 'modeling', 'pigs', 'catches', 'howling', 'prints', 'enjoyable', 'banner', 'navigates', 'as', 'herself', 'forwards', 'shite', 'skis', 'sleeps', 'taped', 'bunny', 'seafood', 'chess', 'mountains', 'then', 'netting', 'stucco', 'emerge', 'curl', 'vacationing', 'amounts', 'mechanisms', 'tshirts', 'shocked', 'bluetooth', 'workout', 'target', 'queen', 'darkheaded', 'glances', 'free', 'cycles', 'paintball', 'castle', 'brushland', 'sponges', 'entrance', 'saying', 'dreeds', 'pinstriped', 'smooth', 'begin', 'greet', 'confronting', 'landscape', 'colorfully', 'endorsementcovered', 'elementary', 'bigger', 'harnesses', 'dressing', 'interviewing', 'fencing', 'slimy', 'cyclers', 'walk', 'archeologist', 'suprised', 'thumb', 'splits', 'choppy', 'navel', 'cobblestones', 'everyday', 'curved', 'highfiving', 'egg', 'swinsuit', 'hundred', 'sorts', 'placing', 'brightlycolored', 'snapshot', 'newly', 'discovery', 'belaying', 'tooth', 'inspect', 'parasail', 'ralley', 'outlined', 'enters', 'piggybacking', 'rises', 'massive', 'thumbs', 'commercial', 'strike', 'dodge', 'headlights', 'directly', 'strap', 'capes', 'spaniels', 'message', 'arena', 'starlet', 'american', 'contemplating', 'smacking', 'cin', 'laps', 'is', 'strikes', 'obscure', 'urinating', 'cheerleader', 'hoist', 'michael', 'enthusiastic', 'fedex', 'antitax', 'toilets', 'heard', 'carpeting', 'dupont', 'tail', 'geological', 'tattoo', 'city', 'also', 'cherry', 'strip', 'kayak', 'bullfighting', 'complete', 'scantily', 'squirrel', 'automobile', 'crushed', 'suv', 'approach', 'crustacean', 'mountain', 'blank', 'tiara', 'nations', 'matchin', 'experiences', 'dons', 'statue', 'chip', 'ivars', 'joint', 'stomachs', 'models', 'cricketer', 'muscle', 'row', 'gleaming', 'sing', 'submerged', 'beagle', 'alien', 'executes', 'drumset', 'hooker', 'vandalized', 'grasp', 'wizard', 'browm', 'pretends', 'roman', 'featuring', 'he', 'gymnast', 'bagpipe', 'keeps', 'chutes', 'medow', 'seem', 'fountain', 'frozen', 'arriving', 'coach', 'tabloid', 'jubilant', 'boating', 'pumpkins', 'hillock', 'perplexed', 'littering', 'tethered', 'tanandwhite', 'composed', 'carved', 'pressing', 'apparatus', 'ranger', 'shorthaired', 'sit', 'god', 'choreographed', 'object', 'paddled', 'sweeping', 'straddles', 'tiger', 'behinds', 'penske', 'pier', 'tip', 'stoic', 'ques', 'eyebrows', 'drap', 'harnessed', 'toothbrush', 'boas', 'crystal', 'fluorescent', 'sabre', 'rolledup', 'characters', 'cuddling', 'shelf', 'displaying', 'wrapping', 'cavorts', 'brunette', 'shooting', 'drivers', 'follows', 'news', 'unsual', 'agile', 'barely', 'toys', 'backbend', 'scales', 'sky', 'brownandblack', 'bullseye', 'launches', 'nighttime', 'meet', 'daisies', 'barber', 'doberman', 'draping', 'backing', 'poised', 'severe', 'siting', 'onslaught', 'waves', 'compete', 'bespectacled', 'gokarts', 'tiny', 'hurdles', 'hooping', 'avoid', 'vigorous', 'sweatsuit', 'transit', 'bags', 'members', 'onstage', 'waterskiing', 'suntan', 'tripods', 'clifftop', 'use', 'unfurled', 'squinting', 'cameras', 'whil', 'pig', 'bell', 'utensils', 'potty', 'fires', 'smaller', 'quarters', 'intervening', 'these', 'groomed', 'islamic', 'flocking', 'bent', 'boogie', 'obscured', 'live', 'christ', 'cords', 'jr', 'jumps', 'undone', 'donning', 'joggers', 'peeping', 'snorkeling', 'aig', 'promting', 'little', 'widely', 'poses', 'chew', 'grass', 'hoses', 'expressionless', 'bloom', 'tiled', 'become', 'nipping', 'gnarly', 'moutnain', 'horns', 'fancily', 'chart', 'oiled', 'napping', 'pep', 'beds', 'stiars', 'playfighting', 'sphere', 'beat', 'takeout', 'streches', 'abs', 'bigg', 'river', 'outwards', 'headgear', 'foyer', 'rooftop', 'portion', 'questioningly', 'backwards', 'interrupts', 'facepainted', 'joust', 'even', 'bumpers', 'slalomlike', 'tortoise', 'fencedin', 'inspects', 'savanah', 'sheepdogs', 'graffited', 'poncho', 'everywhere', 'crows', 'nightlife', 'throughwindow', 'cascading', 'excitedly', 'bee', 'negotiates', 'entwined', 'tying', 'shrubbery', 'wearubg', 'weaves', 'hailing', 'tanskinned', 'too', 'skiiers', 'through', 'desserts', 'cower', 'jacked', 'sunhat', 'tulip', 'rollercoaster', 'lightsaber', 'struggles', 'thin', 'listens', 'shortstop', 'ponytail', 'evening', 'car', 'vie', 'moniter', 'emphatically', 'sits', 'fantastic', 'visiting', 'sings', 'puts', 'againest', 'semicloudy', 'flute', 'stereo', 'gettin', 'pins', 'sippy', 'oout', 'stool', 'amazed', 'midpitch', 'handlebars', 'injured', 'common', 'balck', 'shadowdappled', 'pot', 'least', 'boot', 'grey', 'fingerpaints', 'ceremonial', 'image', 'oncoming', 'sweashirt', 'call', 'schoolboy', 'bobsled', 'artist', 'yankee', 'earnhardt', 'corgie', 'picure', 'where', 'rockstar', 'caring', 'passage', 'necklaces', 'competeition', 'onward', 'judgement', 'playfully', 'dressed', 'jumpsuit', 'paper', 'bearded', 'sushi', 'shuttered', 'equpiment', 'playgroud', 'dries', 'turban', 'chilly', 'scoop', 'supermarket', 'kilt', 'cheese', 'snowfall', 'numerous', 'harbor', 'baby', 'onehanded', 'signaling', 'shelter', 'waing', 'challange', 'bunch', 'growls', 'mishap', 'recorder', 'powerboats', 'polar', 'streamer', 'fairy', 'sledding', 'clibing', 'foamy', 'badge', 'snake', 'trams', 'examines', 'awning', 'sheet', 'starbuck', 'fluorecent', 'tee', 'protector', 'peirced', 'stretch', 'splashing', 'contents', 'squeamish', 'veil', 'kisscostumed', 'ball', 'place', 'polaris', 'creek', 'feeding', 'awards', 'eating', 'jello', 'athelete', 'weating', 'bird', 'soaring', 'backs', 'balanced', 'sole', 'making', 'plaid', 'hydrant', 'fierce', 'snapping', 'messenger', 'explosive', 'ask', 'completing', 'fireworks', 'set', 'iguanas', 'intense', 'daylight', 'shoeless', 'raising', 'stange', 'bouncy', 'skit', 'ritz', 'largeboned', 'bale', 'brownspotted', 'clapping', 'beanie', 'fencers', 'zipup', 'greyhounds', 'bicycling', 'will', 'pad', 'sedan', 'spool', 'tak', 'tossed', 'tattered', 'preserves', 'catcher', 'magician', 'diplomas', 'moss', 'sinks', 'cigarette', 'learn', 'ganilla', 'quietly', 'leave', 'crib', 'girlfriends', 'puppies', 'auto', 'sniff', 'double', 'orders', 'hoof', 'packages', 'smartly', 'airfilled', 'eagle', 'homes', 'hunt', 'glove', 'paragliding', 'conical', 'monitor', 'reclines', 'tubes', 'displayed', 'ballerinas', 'bands', 'hearts', 'skyward', 'sharp', 'crowns', 'dooorway', 'skirts', 'diamond', 'tuxedo', 'croc', 'distance', 'furnace', 'weathered', 'smiles', 'reptiles', 'catch', 'snowploe', 'troupe', 'firetruck', 'bluetinted', 'pottypotty', 'wheeled', 'claus', 'shouting', 'hummer', 'stubbled', 'hole', 'endzone', 'pony', 'spanish', 'basketballs', 'legged', 'ninja', 'forehead', 'paneling', 'usual', 'angel', 'uno', 'dishtowel', 'curling', 'master', 'pavillion', 'spiked', 'relax', 'demonstrate', 'path', 'observes', 'barechested', 'motorbikes', 'headwraps', 'thoroughly', 'shag', 'similarly', 'sun', 'white', 'pedestal', 'personnel', 'parked', 'carrier', 'sleeve', 'perfect', 'finishes', 'freefalling', 'slips', 'sunny', 'atvs', 'highrise', 'showgirls', 'batshaped', 'mickey', 'argues', 'hortons', 'buddy', 'mouthed', 'sitting', 'tricycle', 'collegiate', 'goldcolored', 'order', 'valleys', 'larger', 'torch', 'costumed', 'swallow', 'scooters', 'viewfinder', 'hut', 'peeks', 'mime', 'almostpristine', 'equpitment', 'knitted', 'been', 'follow', 'deserted', 'rodent', 'dresswear', 'contestant', 'iceskating', 'sales', 'miniature', 'snowboard', 'song', 'united', 'performing', 'laughing', 'athletes', 'older', 'outrun', 'grownups', 'bridal', 'piece', 'pebbles', 'pedal', 'cups', 'converse', 'conference', 'seidwalk', 'patterns', 'swetashirts', 'pall', 'tags', 'lobster', 'several', 'adolescents', 'solitude', 'memorial', 'spanishstyle', 'towheaded', 'drawings', 'fluffy', 'seven', 'casts', 'snowboarding', 'buckets', 'squints', 'lopes', 'forth', 'blame', 'hawk', 'easily', 'crucified', 'age', 'repel', 'arranged', 'skateboard', 'turbulent', 'flats', 'ties', 'panhandler', 'hollywood', 'attack', 'rollerblades', 'noodle', 'airport', 'chewing', 'saxophone', 'pop', 'island', 'cheek', 'puppet', 'graffiti', 'site', 'fielder', 'zigzag', 'closing', 'rockclimbs', 'cooling', 'rover', 'character', 'brownish', 'stickball', 'imagery', 'back', 'entire', 'woven', 'entertaining', 'fastfood', 'surroundings', 'evergreen', 'showering', 'scaling', 'stoplight', 'grating', 'stroller', 'youngster', 'trade', 'bowtie', 'sunrise', 'claws', 'collarless', 'bellysmacker', 'dodgeball', 'headline', 'diego', 'stretched', 'trousers', 'created', 'snowmobiles', 'preoccupied', 'greenhouse', 'climing', 'median', 'money', 'tv', 'fathers', 'skeptically', 'tier', 'caged', 'device', 'pylon', 'pleople', 'safe', 'woolly', 'phrase', 'nursed', 'reflection', 'cruising', 'froup', 'demonstration', 'hound', 'monitors', 'greets', 'carpenters', 'magnificant', 'tails', 'books', 'frown', 'handkerchief', 'waterside', 'concrete', 'slingshot', 'additional', 'cowboys', 'spiky', 'made', 'rushed', 'wheeler', 'pilots', 'pelican', 'camp', 'rainy', 'wanting', 'setting', 'runs', 'clown', 'quarry', 'histerically', 'campground', 'apart', 'sightseeing', 'left', 'gaze', 'trail', 'tosses', 'area', 'yorkie', 'horseriders', 'hang', 'trots', 'protesters', 'peering', 'walmart', 'assists', 'longsleeved', 'rug', 'victorian', 'curtsey', 'rears', 'veteran', 'kicked', 'treats', 'tackles', 'streght', 'att', 'did', 'wispy', 'obese', 'tells', 'rollskating', 'mogul', 'goofing', 'lavish', 'bowling', 'protective', 'rectangular', 'if', 'snap', 'once', 'crowded', 'gorup', 'stadium', 'muxzzled', 'wheat', 'poling', 'bathed', 'plush', 'kimonos', 'looptheloop', 'swaetshirt', 'backed', 'bagpipers', 'sprinkles', 'heads', 'twp', 'guiding', 'pipe', 'speaker', 'canooers', 'cutout', 'venice', 'footrace', 'locking', 'toyota', 'cloaks', 'plantains', 'put', 'junction', 'directing', 'appear', 'trekking', 'doggy', 'judo', 'ship', 'help', 'hit', 'rockclimbing', 'shored', 'descends', 'telescopes', 'hopscotch', 'pleasant', 'classic', 'roundabout', 'motocross', 'corridor', 'proud', 'stall', 'disc', 'contest', 'lets', 'soft', 'courts', 'amazement', 'nest', 'motley', 'downriver', 'mingling', 'blasts', 'marvel', 'pyranha', 'pamphlet', 'pounces', 'cami', 'crab', 'frisbie', 'chili', 'celebrate', 'apron', 'shoe', 'venue', 'include', 'lie', 'vest', 'alcove', 'them', 'subdivsion', 'busk', 'russel', 'dozen', 'thrashed', 'degrees', 'corgis', 'desert', 'stripe', 'peers', 'pressed', 'tribal', 'gazing', 'smoking', 'masquerade', 'saltandpepperhaired', 'deep', 'unified', 'kites', 'handout', 'faithful', 'marshlike', 'basett', 'handcrank', 'narrow', 'climb', 'graze', 'lights', 'band', 'magazine', 'trimmed', 'location', 'violin', 'distressed', 'rested', 'pick', 'indescript', 'meter', 'gandhi', 'semiformal', 'boarder', 'touching', 'dangling', 'about', 'tobaggons', 'piggy', 'lightcolored', 'whitehaired', 'breathes', 'shoulderbag', 'collies', 'tile', 'fayre', 'motorcrossing', 'jumpsuites', 'business', 'same', 'measured', 'twisted', 'tubing', 'ended', 'bras', 'bikes', 'smelled', 'uniform', 'sailboarder', 'ice', 'int', 'pierced', 'main', 'pinestraw', 'antoher', 'barrier', 'clasped', 'deck', 'mostly', 'cathing', 'sweatshir', 'seller', 'observe', 'midspeach', 'hero', 'vintage', 'paying', 'squeezing', 'angles', 'are', 'roadside', 'childern', 'led', 'loop', 'south', 'chemical', 'reads', 'teenager', 'react', 'bicycle', 'bland', 'goatee', 'internet', 'barista', 'patterned', 'buddha', 'salt', 'arrives', 'farmers', 'rest', 'approached', 'waterskiis', 'reviewing', 'agility', 'bullrun', 'woodland', 'buzy', 'herd', 'contorts', 'joined', 'lav', 'tub', 'university', 'celtics', 'bartender', 'dryed', 'flags', 'peanut', 'codpiece', 'twists', 'supporting', 'clue', 'its', 'tightly', 'scuba', 'my', 'beauty', 'roads', 'helicopter', 'rhododendron', 'hawaiin', 'icicle', 'stopaction', 'cleavage', 'plling', 'celebration', 'visits', 'santana', 'heap', 'airtime', 'ornamental', 'roofed', 'crate', 'gonzaga', 'engraved', 'striking', 'aerodynamic', 'headphones', 'rags', 'propelling', 'lettering', 'chow', 'zchtv', 'breath', 'coffin', 'african', 'surounded', 'mardi', 'herds', 'keeper', 'hosed', 'possessions', 'hardhats', 'bucking', 'shocks', 'beating', 'stacking', 'chatting', 'waterfall', 'licked', 'houses', 'player', 'rangers', 'avoids', 'corners', 'thatched', 'bushels', 'italy', 'solo', 'amnesty', 'metallic'}\n",
            "Vocabulary Size: 8763\n"
          ],
          "name": "stdout"
        }
      ]
    },
    {
      "cell_type": "markdown",
      "metadata": {
        "id": "DDNoPmDnYVXx",
        "colab_type": "text"
      },
      "source": [
        "# Develop Deep Learning Model"
      ]
    },
    {
      "cell_type": "markdown",
      "metadata": {
        "id": "Ukm7mOl4Yfrr",
        "colab_type": "text"
      },
      "source": [
        "### Loading data"
      ]
    },
    {
      "cell_type": "code",
      "metadata": {
        "id": "zPIJEW_OFgTV",
        "colab_type": "code",
        "colab": {}
      },
      "source": [
        "from pickle import load\n",
        " \n",
        "# load doc into memory\n",
        "def load_doc(filename):\n",
        "\t# open the file as read only\n",
        "\tfile = open(filename, 'r')\n",
        "\t# read all text\n",
        "\ttext = file.read()\n",
        "\t# close the file\n",
        "\tfile.close()\n",
        "\treturn text"
      ],
      "execution_count": 0,
      "outputs": []
    },
    {
      "cell_type": "code",
      "metadata": {
        "id": "JbgFam1ibJMO",
        "colab_type": "code",
        "colab": {}
      },
      "source": [
        "# load a pre-defined list of photo identifiers\n",
        "def load_set(filename):\n",
        "  \n",
        "\tdoc = load_doc(filename)\n",
        "  \n",
        "\tdataset = list()\n",
        "  \n",
        "\t# process line by line\n",
        "\tfor line in doc.split('\\n'):\n",
        "    \n",
        "\t\t# skip empty lines\n",
        "\t\tif len(line) < 1:\n",
        "\t\t\tcontinue\n",
        "      \n",
        "\t\t# get the image identifier\n",
        "\t\tidentifier = line.split('.')[0]\n",
        "    \n",
        "\t\tdataset.append(identifier)\n",
        "    \n",
        "\treturn set(dataset)"
      ],
      "execution_count": 0,
      "outputs": []
    },
    {
      "cell_type": "code",
      "metadata": {
        "id": "214KwKVQZ-Yh",
        "colab_type": "code",
        "colab": {}
      },
      "source": [
        "# load clean descriptions into memory\n",
        "def load_clean_descriptions(filename, dataset):\n",
        "\t# load document\n",
        "\tdoc = load_doc(filename)\n",
        "\tdescriptions = dict()\n",
        "\tfor line in doc.split('\\n'):\n",
        "\t\t# split line by white space\n",
        "\t\ttokens = line.split()\n",
        "\t\t# split id from description\n",
        "\t\timage_id, image_desc = tokens[0], tokens[1:]\n",
        "\t\t# skip images not in the set\n",
        "\t\tif image_id in dataset:\n",
        "\t\t\t# create list\n",
        "\t\t\tif image_id not in descriptions:\n",
        "\t\t\t\tdescriptions[image_id] = list()\n",
        "\t\t\t# wrap description in tokens\n",
        "\t\t\tdesc = 'startseq ' + ' '.join(image_desc) + ' endseq'\n",
        "\t\t\t# store\n",
        "\t\t\tdescriptions[image_id].append(desc)\n",
        "\treturn descriptions"
      ],
      "execution_count": 0,
      "outputs": []
    },
    {
      "cell_type": "code",
      "metadata": {
        "id": "4aRgN5gHaHBR",
        "colab_type": "code",
        "colab": {}
      },
      "source": [
        "# load photo features\n",
        "def load_photo_features(filename, dataset):\n",
        "\t# load all features\n",
        "\tall_features = load(open(filename, 'rb'))\n",
        "\t# filter features\n",
        "\tfeatures = {k: all_features[k] for k in dataset}\n",
        "\treturn features"
      ],
      "execution_count": 0,
      "outputs": []
    },
    {
      "cell_type": "code",
      "metadata": {
        "id": "WfCvx0QVaVnb",
        "colab_type": "code",
        "colab": {
          "base_uri": "https://localhost:8080/",
          "height": 66
        },
        "outputId": "1a2d22f6-a317-434a-be5e-101bc19eaf70"
      },
      "source": [
        "# load training dataset (6K)\n",
        "filename = 'gdrive/My Drive/data/flickr8k_text/Flickr_8k.trainImages.txt'\n",
        "train = load_set(filename)\n",
        "print('Dataset: %d' % len(train))\n",
        "# descriptions\n",
        "train_descriptions = load_clean_descriptions('descriptions.txt', train)\n",
        "print('Descriptions: train=%d' % len(train_descriptions))\n",
        "# photo features\n",
        "train_features = load_photo_features('features.pkl', train)\n",
        "print('Photos: train=%d' % len(train_features))"
      ],
      "execution_count": 54,
      "outputs": [
        {
          "output_type": "stream",
          "text": [
            "Dataset: 6000\n",
            "Descriptions: train=6000\n",
            "Photos: train=6000\n"
          ],
          "name": "stdout"
        }
      ]
    },
    {
      "cell_type": "code",
      "metadata": {
        "id": "EweDHVASc1pP",
        "colab_type": "code",
        "colab": {
          "base_uri": "https://localhost:8080/",
          "height": 70
        },
        "outputId": "2e25213f-7c83-4771-aac8-ed16d036b5b2"
      },
      "source": [
        "pip install nltk"
      ],
      "execution_count": 59,
      "outputs": [
        {
          "output_type": "stream",
          "text": [
            "Requirement already satisfied: nltk in /usr/local/lib/python3.6/dist-packages (3.2.5)\n",
            "Requirement already satisfied: six in /usr/local/lib/python3.6/dist-packages (from nltk) (1.12.0)\n"
          ],
          "name": "stdout"
        }
      ]
    },
    {
      "cell_type": "code",
      "metadata": {
        "id": "m4OhY_Sjae_6",
        "colab_type": "code",
        "colab": {
          "base_uri": "https://localhost:8080/",
          "height": 337
        },
        "outputId": "f059ae1c-c325-497b-a08a-ef7d91b6855f"
      },
      "source": [
        "from tokenize import tokenize\n",
        "\n",
        "# convert a dictionary of clean descriptions to a list of descriptions\n",
        "def to_lines(descriptions):\n",
        "\tall_desc = list()\n",
        "\tfor key in descriptions.keys():\n",
        "\t\t[all_desc.append(d) for d in descriptions[key]]\n",
        "\treturn all_desc\n",
        " \n",
        "# fit a tokenizer given caption descriptions\n",
        "def create_tokenizer(descriptions):\n",
        "\tlines = to_lines(descriptions)\n",
        "\ttokenizer = Tokenizer()\n",
        "\ttokenizer.fit_on_texts(lines)\n",
        "\treturn tokenizer\n",
        " \n",
        "# prepare tokenizer\n",
        "tokenizer = create_tokenizer(train_descriptions)\n",
        "vocab_size = len(tokenizer.word_index) + 1\n",
        "print('Vocabulary Size: %d' % vocab_size)"
      ],
      "execution_count": 58,
      "outputs": [
        {
          "output_type": "error",
          "ename": "NameError",
          "evalue": "ignored",
          "traceback": [
            "\u001b[0;31m---------------------------------------------------------------------------\u001b[0m",
            "\u001b[0;31mNameError\u001b[0m                                 Traceback (most recent call last)",
            "\u001b[0;32m<ipython-input-58-57557690b17e>\u001b[0m in \u001b[0;36m<module>\u001b[0;34m()\u001b[0m\n\u001b[1;32m     16\u001b[0m \u001b[0;34m\u001b[0m\u001b[0m\n\u001b[1;32m     17\u001b[0m \u001b[0;31m# prepare tokenizer\u001b[0m\u001b[0;34m\u001b[0m\u001b[0;34m\u001b[0m\u001b[0;34m\u001b[0m\u001b[0m\n\u001b[0;32m---> 18\u001b[0;31m \u001b[0mtokenizer\u001b[0m \u001b[0;34m=\u001b[0m \u001b[0mcreate_tokenizer\u001b[0m\u001b[0;34m(\u001b[0m\u001b[0mtrain_descriptions\u001b[0m\u001b[0;34m)\u001b[0m\u001b[0;34m\u001b[0m\u001b[0;34m\u001b[0m\u001b[0m\n\u001b[0m\u001b[1;32m     19\u001b[0m \u001b[0mvocab_size\u001b[0m \u001b[0;34m=\u001b[0m \u001b[0mlen\u001b[0m\u001b[0;34m(\u001b[0m\u001b[0mtokenizer\u001b[0m\u001b[0;34m.\u001b[0m\u001b[0mword_index\u001b[0m\u001b[0;34m)\u001b[0m \u001b[0;34m+\u001b[0m \u001b[0;36m1\u001b[0m\u001b[0;34m\u001b[0m\u001b[0;34m\u001b[0m\u001b[0m\n\u001b[1;32m     20\u001b[0m \u001b[0mprint\u001b[0m\u001b[0;34m(\u001b[0m\u001b[0;34m'Vocabulary Size: %d'\u001b[0m \u001b[0;34m%\u001b[0m \u001b[0mvocab_size\u001b[0m\u001b[0;34m)\u001b[0m\u001b[0;34m\u001b[0m\u001b[0;34m\u001b[0m\u001b[0m\n",
            "\u001b[0;32m<ipython-input-58-57557690b17e>\u001b[0m in \u001b[0;36mcreate_tokenizer\u001b[0;34m(descriptions)\u001b[0m\n\u001b[1;32m     11\u001b[0m \u001b[0;32mdef\u001b[0m \u001b[0mcreate_tokenizer\u001b[0m\u001b[0;34m(\u001b[0m\u001b[0mdescriptions\u001b[0m\u001b[0;34m)\u001b[0m\u001b[0;34m:\u001b[0m\u001b[0;34m\u001b[0m\u001b[0;34m\u001b[0m\u001b[0m\n\u001b[1;32m     12\u001b[0m         \u001b[0mlines\u001b[0m \u001b[0;34m=\u001b[0m \u001b[0mto_lines\u001b[0m\u001b[0;34m(\u001b[0m\u001b[0mdescriptions\u001b[0m\u001b[0;34m)\u001b[0m\u001b[0;34m\u001b[0m\u001b[0;34m\u001b[0m\u001b[0m\n\u001b[0;32m---> 13\u001b[0;31m         \u001b[0mtokenizer\u001b[0m \u001b[0;34m=\u001b[0m \u001b[0mTokenizer\u001b[0m\u001b[0;34m(\u001b[0m\u001b[0;34m)\u001b[0m\u001b[0;34m\u001b[0m\u001b[0;34m\u001b[0m\u001b[0m\n\u001b[0m\u001b[1;32m     14\u001b[0m         \u001b[0mtokenizer\u001b[0m\u001b[0;34m.\u001b[0m\u001b[0mfit_on_texts\u001b[0m\u001b[0;34m(\u001b[0m\u001b[0mlines\u001b[0m\u001b[0;34m)\u001b[0m\u001b[0;34m\u001b[0m\u001b[0;34m\u001b[0m\u001b[0m\n\u001b[1;32m     15\u001b[0m         \u001b[0;32mreturn\u001b[0m \u001b[0mtokenizer\u001b[0m\u001b[0;34m\u001b[0m\u001b[0;34m\u001b[0m\u001b[0m\n",
            "\u001b[0;31mNameError\u001b[0m: name 'Tokenizer' is not defined"
          ]
        }
      ]
    },
    {
      "cell_type": "code",
      "metadata": {
        "id": "P4w2mTkAcE8v",
        "colab_type": "code",
        "colab": {}
      },
      "source": [
        ""
      ],
      "execution_count": 0,
      "outputs": []
    }
  ]
}